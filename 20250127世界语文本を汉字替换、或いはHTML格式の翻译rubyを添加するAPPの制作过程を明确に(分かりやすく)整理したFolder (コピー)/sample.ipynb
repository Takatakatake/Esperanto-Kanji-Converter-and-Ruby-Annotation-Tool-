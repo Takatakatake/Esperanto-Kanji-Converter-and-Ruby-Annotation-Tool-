{
 "cells": [
  {
   "cell_type": "code",
   "execution_count": 1,
   "metadata": {},
   "outputs": [],
   "source": [
    "import csv\n",
    "import json\n",
    "\n",
    "# 既に作成・保存している幅データを読み込む\n",
    "with open(\"Unicode_BMP全范围文字幅(宽)_Arial16.json\", \"r\", encoding=\"utf-8\") as fp:\n",
    "    char_widths_dict = json.load(fp)\n",
    "\n",
    "def measure_text_width_Arial16(text, char_widths):\n",
    "    \"\"\"\n",
    "    JSONで読み込んだ {文字: 幅(px)} の辞書を用いて、\n",
    "    与えられた文字列 text の幅を合計して返す。\n",
    "    見つからない文字があれば幅8pxとみなす。\n",
    "    \"\"\"\n",
    "    total_width = 0\n",
    "    for ch in text:\n",
    "        char_width = char_widths.get(ch, 8)\n",
    "        total_width += char_width\n",
    "    return total_width\n",
    "\n",
    "input_csv_path = \"input.csv\"   # 入力CSVファイル\n",
    "output_csv_path = \"output.csv\" # 出力CSVファイル\n",
    "\n",
    "with open(input_csv_path, \"r\", encoding=\"utf-8\") as f_in, \\\n",
    "     open(output_csv_path, \"w\", encoding=\"utf-8\", newline=\"\") as f_out:\n",
    "    \n",
    "    reader = csv.reader(f_in)\n",
    "    writer = csv.writer(f_out)\n",
    "    \n",
    "    for row in reader:\n",
    "        # rowは各行の列データ（最大3列）。足りなければ空文字列を補う\n",
    "        while len(row) < 3:\n",
    "            row.append(\"\")\n",
    "        \n",
    "        # 各列に対して幅を測り、文字列化する\n",
    "        output_row = []\n",
    "        for col in row[:3]:\n",
    "            if col == \"\":\n",
    "                output_row.append(\"空\")  # 空セルを\"空\"と出力\n",
    "            else:\n",
    "                w = measure_text_width_Arial16(col, char_widths_dict)\n",
    "                output_row.append(str(w))\n",
    "        \n",
    "        # 結果をCSVとして書き出す\n",
    "        writer.writerow(output_row)\n"
   ]
  },
  {
   "cell_type": "code",
   "execution_count": null,
   "metadata": {},
   "outputs": [],
   "source": []
  }
 ],
 "metadata": {
  "kernelspec": {
   "display_name": "base",
   "language": "python",
   "name": "python3"
  },
  "language_info": {
   "codemirror_mode": {
    "name": "ipython",
    "version": 3
   },
   "file_extension": ".py",
   "mimetype": "text/x-python",
   "name": "python",
   "nbconvert_exporter": "python",
   "pygments_lexer": "ipython3",
   "version": "3.8.18"
  }
 },
 "nbformat": 4,
 "nbformat_minor": 2
}
