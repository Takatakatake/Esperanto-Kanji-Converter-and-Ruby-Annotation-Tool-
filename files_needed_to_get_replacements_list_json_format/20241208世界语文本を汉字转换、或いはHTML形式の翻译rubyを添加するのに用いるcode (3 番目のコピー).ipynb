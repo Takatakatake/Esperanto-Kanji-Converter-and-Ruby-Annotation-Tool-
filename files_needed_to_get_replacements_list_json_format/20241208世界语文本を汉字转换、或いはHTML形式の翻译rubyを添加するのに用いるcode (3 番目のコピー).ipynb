{
 "cells": [
  {
   "cell_type": "code",
   "execution_count": 3,
   "id": "cc223e48",
   "metadata": {},
   "outputs": [],
   "source": [
    "# 字上符付き文字の表記形式変換用の辞書型配列\n",
    "esperanto_to_x = { \"ĉ\": \"cx\", \"ĝ\": \"gx\", \"ĥ\": \"hx\", \"ĵ\": \"jx\", \"ŝ\": \"sx\", \"ŭ\": \"ux\",\n",
    "                   \"Ĉ\": \"Cx\", \"Ĝ\": \"Gx\", \"Ĥ\": \"Hx\", \"Ĵ\": \"Jx\", \"Ŝ\": \"Sx\", \"Ŭ\": \"Ux\",\n",
    "                   \"c^\": \"cx\", \"g^\": \"gx\", \"h^\": \"hx\", \"j^\": \"jx\", \"s^\": \"sx\", \"u^\": \"ux\",\n",
    "                    \"C^\": \"Cx\", \"G^\": \"Gx\", \"H^\": \"Hx\", \"J^\": \"Jx\", \"S^\": \"Sx\", \"U^\": \"Ux\"}\n",
    "x_to_jijofu={'cx': 'ĉ', 'gx': 'ĝ', 'hx': 'ĥ', 'jx': 'ĵ', 'sx': 'ŝ', 'ux': 'ŭ', 'Cx': 'Ĉ',\n",
    "             'Gx': 'Ĝ', 'Hx': 'Ĥ', 'Jx': 'Ĵ', 'Sx': 'Ŝ', 'Ux': 'Ŭ'}\n",
    "x_to_hat={'cx': 'c^', 'gx': 'g^', 'hx': 'h^', 'jx': 'j^', 'sx': 's^', 'ux': 'u^', 'Cx': 'C^',\n",
    "          'Gx': 'G^', 'Hx': 'H^', 'Jx': 'J^', 'Sx': 'S^', 'Ux': 'U^'}\n",
    "# 字上符付き文字の表記形式変換用の関数\n",
    "def replace_esperanto_chars(text,letter_dictionary):\n",
    "    for esperanto_char, x_char in letter_dictionary.items():\n",
    "        text = text.replace(esperanto_char, x_char)\n",
    "    return text\n",
    "# テスト用のエスペラント文\n",
    "# text = \"Ĝis revido! Mia nomo estas Ĵoĥano. Ĉu vi ŝatas ĥorojn? -Ne, mi s^tas felic^on. C^ S^ H^ c^ s^ h^  Ĉ Ĝ  Gxis revido! Mia nomo estas Jxohxano. Cxu vi sxatas hxorojn? -Ne, mi sxtas felicxon. Cx Sx Hx cx sx hx  Cx Gx\"\n",
    "# エスペラント文の文字形式の変換\n",
    "# replaced_text = replace_esperanto_chars(text,esperanto_to_x)\n",
    "# replaced_text =replace_esperanto_chars(text,x_to_jijofu)\n",
    "# replaced_text =replace_esperanto_chars(text,x_to_hat)\n",
    "# print(\"元のテキスト:\", text)\n",
    "# print(\"置換後のテキスト:\", replaced_text)"
   ]
  },
  {
   "cell_type": "code",
   "execution_count": 9,
   "id": "052b8c23",
   "metadata": {},
   "outputs": [],
   "source": [
    "##まず、\"世界语全部单词列表_约44100个(原pejvo.txt)_utf8化_第二部分以後中心に修正_更に修正_最终版202412.txt\"を小文字、X形式に変換する。 (変換コード上では小文字、X形式で統一。)\n",
    "with open(\"世界语全部单词列表_约44100个(原pejvo.txt)_utf8化_第二部分以後中心に修正_更に修正_最终版202412.txt\", 'r', encoding='utf-8') as file:\n",
    "    text = file.read()\n",
    "    converted_text=replace_esperanto_chars(text,esperanto_to_x)#エスペラントの特殊文字を対応するx形式に変換。\n",
    "    converted_text=converted_text.lower()#小文字に変換。\n",
    "#結果を\"一时的.txt\"に書き出す。\n",
    "with open('一时的.txt', 'w', encoding='utf-8') as file:\n",
    "    file.write(converted_text)"
   ]
  },
  {
   "cell_type": "code",
   "execution_count": 10,
   "id": "166c5383",
   "metadata": {},
   "outputs": [],
   "source": [
    "import os\n",
    "import re\n",
    "def contains_digit(s):#対象の文字列sに数字となりうる文字列(数字)が含まれるかどうかを確認する関数\n",
    "    return any(char.isdigit() for char in s)\n",
    "\n",
    "stem_with_part_of_speech_list=[]\n",
    "# \"一时的.txt\"(\"世界语全部单词列表_约44100个(原pejvo.txt)_utf8化_第二部分以後中心に修正_更に修正_最终版202412.txt\"を小文字、X形式に変換したもの)を開く。\n",
    "with open(\"一时的.txt\", 'r', encoding='utf-8') as file:\n",
    "    # \"一时的.txt\"の各行をループ。\n",
    "    for line in file:\n",
    "        # ':'が出てくるまでの部分を取り出す。\n",
    "        line=line.replace('-','/')##20240618追加\n",
    "        word = line.split(\":\")[0]\n",
    "        word = word.lstrip('/')##日本版,第一部分だけ\n",
    "        # さらに取り出した部分を'-'、' '、','で分ける。\",\"もごくまれに存在する('tial')\n",
    "        parts = re.split('-| |,', word)\n",
    "        # 各部分をループし、単語の語尾の形式によって品詞分類しながら、その語尾をカットする。\n",
    "        for jj in range(len(parts)):\n",
    "            if jj>=0:# 第一部分と第二部分以後も\n",
    "                part=parts[jj]\n",
    "                if not (contains_digit(part) or len(part)<2):##2文字以上 かつ　数字を含まない単語\n",
    "                    if \"/\" in part:\n",
    "                        if part.endswith(('/o','/on','oj','/o!','ojn','on!')):\n",
    "                            AA=[\"/\".join(part.split(\"/\")[:-1])]\n",
    "                            AA.append('名词')\n",
    "                        elif part.endswith(('/a','/aj','/an','/an!')):\n",
    "                            AA=[\"/\".join(part.split(\"/\")[:-1])]\n",
    "                            AA.append('形容词')\n",
    "                        elif part.endswith(('/e','/e!')):\n",
    "                            AA=[\"/\".join(part.split(\"/\")[:-1])]\n",
    "                            AA.append('副词')\n",
    "                        elif part.endswith(('/e/n','/e/n!')):##'/e/n'は後で気をつける  圧倒的に少ない(72個)ので無詞にしたほうが(20240707確認)\n",
    "                            AA=[part,\"無詞\"]\n",
    "                        elif part.endswith(('/i','/u','/u!')):\n",
    "                            AA=[\"/\".join(part.split(\"/\")[:-1])]\n",
    "                            AA.append('动词')\n",
    "                        elif part.endswith(('/n')):\n",
    "                            AA=[\"/\".join(part.split(\"/\")[:-1])]\n",
    "                            AA.append('n词')            \n",
    "                    else:\n",
    "                        AA=[part,\"无词\"]\n",
    "                    stem_with_part_of_speech_list.append(AA)"
   ]
  },
  {
   "cell_type": "code",
   "execution_count": 6,
   "id": "e262e940",
   "metadata": {},
   "outputs": [],
   "source": [
    "import json\n",
    "##すべての単語の語尾が正しくカットされているかどうかチェックする。 ここまで情報は何一つ減っていないはず。# 結果をJSON形式で保存\n",
    "with open(\"PEJVO(世界语全部单词列表)全部について、词尾(a,i,u,e,o,n等)をカットし、コンマ(,)で隔てて品詞と併せて记录した列表(stem_with_part_of_speech_list).json\", \"w\", encoding=\"utf-8\") as g:\n",
    "    json.dump(stem_with_part_of_speech_list, g, ensure_ascii=False, indent=2)  # ensure_ascii=FalseでUnicodeをそのまま出力"
   ]
  },
  {
   "cell_type": "markdown",
   "id": "de228ec8",
   "metadata": {},
   "source": [
    "⇑は以後untouchableが望ましい。実行するのも以下からで良い。(202412)"
   ]
  },
  {
   "cell_type": "code",
   "execution_count": 7,
   "id": "0d40ad00",
   "metadata": {},
   "outputs": [],
   "source": [
    "import json\n",
    "# JSONデータを読み込む\n",
    "with open(\"PEJVO(世界语全部单词列表)全部について、词尾(a,i,u,e,o,n等)をカットし、コンマ(,)で隔てて品詞と併せて记录した列表.json\", \"r\", encoding=\"utf-8\") as g:\n",
    "    stem_with_part_of_speech_list = json.load(g)"
   ]
  },
  {
   "cell_type": "code",
   "execution_count": 11,
   "id": "76716f2f",
   "metadata": {},
   "outputs": [],
   "source": [
    "import unicodedata\n",
    "\n",
    "# 文字列の幅を取得するための関数　全角文字は2、半角文字は1を返す。\n",
    "def get_character_width(char):\n",
    "    if unicodedata.east_asian_width(char) in 'FWA':\n",
    "        return 2\n",
    "    else:\n",
    "        return 1\n",
    "# 文字列の全体幅を取得するための関数　全角文字は2、半角文字は1として計算する\n",
    "def get_string_width(s):\n",
    "    return sum(get_character_width(char) for char in s)\n",
    "\n",
    "# # テスト用文字列\n",
    "# test_string = \"半角abc全角あいう123\"\n",
    "# # 文字列の幅を計算\n",
    "# width = get_string_width(test_string)\n",
    "# print(f\"文字列の幅: {width}\")\n",
    "\n",
    "# 'html形式におけるルビサイズを調節する形式'を出力するための関数\n",
    "def output_format(main_text, ruby_content, format_type):\n",
    "    if format_type == 'HTML形式＿ルビサイズ調節':\n",
    "        if get_string_width(main_text)/get_string_width(ruby_content)<(9/25):\n",
    "            return '<ruby>{}<rt class=\"ruby-S_S_S\">{}</rt></ruby>'.format(main_text, ruby_content)\n",
    "        elif  get_string_width(main_text)/get_string_width(ruby_content)<(21/40):\n",
    "            return '<ruby>{}<rt class=\"ruby-M_M_M\">{}</rt></ruby>'.format(main_text, ruby_content)\n",
    "        elif  get_string_width(main_text)/get_string_width(ruby_content)<(7/8):\n",
    "            return '<ruby>{}<rt class=\"ruby-L_L_L\">{}</rt></ruby>'.format(main_text, ruby_content)\n",
    "        else:\n",
    "            return '<ruby>{}<rt class=\"ruby-X_X_X\">{}</rt></ruby>'.format(main_text, ruby_content)\n",
    "    elif format_type == 'HTML形式':\n",
    "        return '<ruby>{}<rt>{}</rt></ruby>'.format(main_text, ruby_content)\n",
    "    elif format_type == '括弧形式':\n",
    "        return '{}({})'.format(main_text, ruby_content)\n",
    "    elif format_type == '変換語文字列のみ(単純な置換)':\n",
    "        return '{}'.format(ruby_content)\n",
    "\n",
    "# ユーザーに出力形式を選んでもらう\n",
    "format_type = 'HTML形式＿ルビサイズ調節'\n",
    "#'括弧形式'"
   ]
  },
  {
   "cell_type": "code",
   "execution_count": 12,
   "id": "c81690c4",
   "metadata": {},
   "outputs": [
    {
     "data": {
      "text/plain": [
       "11127"
      ]
     },
     "execution_count": 12,
     "metadata": {},
     "output_type": "execute_result"
    }
   ],
   "source": [
    "# 上の作業で抽出した、'語末(a,i,e,o,n等)だけをカットした、完全に語根分解された状態の全単語リスト'(stem_with_part_of_speech_list)を(漢字)置換するための、(漢字)置換リストを作成していく。\n",
    "# \"'語末(a,i,e,o,n等)だけをカットした、完全に語根分解された状態の全単語リスト'(stem_with_part_of_speech_list)を(漢字)置換し終えたリスト\"こそが最終的な(漢字)置換リストの大元になる。\n",
    "# '既に完全に語根分解された状態の単語'が対象であれば、文字数の多い語根順に(漢字)置換するだけで、理論上完璧な精度の(漢字)置換ができるはず。\n",
    "# ただし、その完璧な精度の(漢字)置換のためにはあらかじめ\"世界语全部单词列表_约44100个(原pejvo.txt)_utf8化_第二部分以後中心に修正_更に修正_最终版202412.txt\"から\"202412＿世界语全部单词列表_约44100个(原pejvo.txt)_utf8化_第二部分以後中心に修正_更に修正_最终版202412.txt＿から＿世界语全部词根_约11127个_202412＿を抽出.ipynb\"を用いてエスペラントの全語根を抽出しておく必要がある。\n",
    "\n",
    "# 一旦辞書型を使う。(後で内容(value)を更新するため)\n",
    "temporary_replacements_dict={}\n",
    "with open(\"世界语全部词根_约11127个_202412.txt\", 'r', encoding='utf-8') as file:\n",
    "    # \"世界语全部词根_约11127个_202412.txt\"は\"世界语全部单词列表_约44100个(原pejvo.txt)_utf8化_第二部分以後中心に修正_更に修正_最终版202412.txt\"から\"202412＿世界语全部单词列表_约44100个(原pejvo.txt)_utf8化_第二部分以後中心に修正_更に修正_最终版202412.txt＿から＿世界语全部词根_约11127个_202412＿を抽出.ipynb\"を用いて抽出したエスペラントの全語根である。\n",
    "    roots = file.readlines()\n",
    "    for root in roots:\n",
    "        root = root.strip()\n",
    "        if not root.isdigit():# 混入していた数字の'10'と'7'を削除\n",
    "            temporary_replacements_dict[root]=[root,len(root)]# 各エスペラント語根に対する'置換後の単語'(この作業では元の置換対象の語根のまま)と、その置換順序として、'置換対象の語根の文字数'を設定。　置換順序の数字が大きい('置換対象の語根の文字数が多い')ほど、先に置換されるようにする。\n",
    "len(temporary_replacements_dict)"
   ]
  },
  {
   "cell_type": "code",
   "execution_count": 13,
   "id": "9d0ae3df",
   "metadata": {},
   "outputs": [],
   "source": [
    "# 上の作業に引き続き、\"'語末(a,i,e,o,n等)だけをカットした、完全に語根分解された状態の全単語リスト'(stem_with_part_of_speech_list)を(漢字)置換するための、(漢字)置換リスト\"を作成していく。　\n",
    "# ここでは(漢字)置換リストに自分で作成したエスペラント語根の日本語訳ルビリストを反映させる。\n",
    "\n",
    "# ⇓以下のcsvファイルの内容を色々カスタマイズすることで、様々な内容の置換が可能になる。\n",
    "input_file=\"日本語ルビ20241211.csv\"\n",
    "\n",
    "with open(input_file, 'r', encoding='utf-8') as file:\n",
    "    for line in file:\n",
    "        line = line.strip()\n",
    "        j = line.split(',')\n",
    "        if len(j)>=2:\n",
    "            E_word,hanzi_or_meaning=j[0],j[1]\n",
    "            if (hanzi_or_meaning!='') and (E_word!='') and ('#' not in E_word):\n",
    "                temporary_replacements_dict[E_word]=[output_format(E_word, hanzi_or_meaning, format_type),len(E_word)]#辞書型配列では要素(key)に対する値(value)を後から更新できることを利用している。\n",
    "\n",
    "with open(\"一时的な置換用の辞書型配列(temporary_replacements_dict).json\", \"w\", encoding=\"utf-8\") as g:\n",
    "    json.dump(temporary_replacements_dict, g, ensure_ascii=False, indent=2)  # ensure_ascii=FalseでUnicodeをそのまま出力\n",
    "# with open(\"一时的な置換用の辞書型配列.json\", \"r\", encoding=\"utf-8\") as g:\n",
    "#     temporary_replacements_dict_experiment = json.load(g)"
   ]
  },
  {
   "cell_type": "code",
   "execution_count": 14,
   "id": "5f4ce9ea",
   "metadata": {},
   "outputs": [],
   "source": [
    "# 辞書型をリスト型に戻した上で、文字数順に並び替え。\n",
    "# \"'単語の語尾だけをカットした、完全に語根分解された状態の全単語リスト(stem_with_part_of_speech_list)'を(漢字)置換するための、(漢字)置換リスト\"を置換順序の数字の大きさ順(ここでは文字数順)にソート。\n",
    "temporary_replacements_list_1=[]\n",
    "for old,new in temporary_replacements_dict.items():\n",
    "    temporary_replacements_list_1.append((old,new[0],new[1]))\n",
    "temporary_replacements_list_2 = sorted(temporary_replacements_list_1, key=lambda x: x[2], reverse=True)\n",
    "# '(漢字)置換リスト'の各置換に対してplaceholderを追加し、リスト'temporary_replacements_list_3'として完成させる。\n",
    "# placeholder法とは、既に置換を終えた文字列が後続の置換によって重複して置換されてしまうことを避けるために、その置換を終えた部分に一時的に無関係な文字列(placeholder)を置いておいて、\n",
    "#全ての置換が終わった後に、改めてその'無関係な文字列(placeholder)'から'目的の置換後文字列'に変換していく手法である。\n",
    "\n",
    "with open('placeholders_$20987$-$499999$.txt', 'r', encoding='utf-8') as file:##(漢字)置換時に用いる\"placeholder\"ファイルを予め読み込んでおく。\n",
    "    imported_placeholders = [line.strip() for line in file]\n",
    "\n",
    "temporary_replacements_list_3=[]\n",
    "for kk in range(len(temporary_replacements_list_2)):\n",
    "    temporary_replacements_list_3.append([temporary_replacements_list_2[kk][0],temporary_replacements_list_2[kk][1],imported_placeholders[kk]])\n",
    "\n",
    "\n",
    "##置換に用いる関数。正規表現、C++など様々な形式の置換を試したが、pythonでplaceholderを用いる形式の置換が、最も処理が高速であった。(しかも大変シンプルでわかりやすい。)\n",
    "def safe_replace(text, replacements):\n",
    "    valid_replacements = {}\n",
    "    # 置換対象(old)をplaceholderに一時的に置換\n",
    "    for old, new, placeholder in replacements:\n",
    "        if old in text:\n",
    "            text = text.replace(old, placeholder)\n",
    "            valid_replacements[placeholder] = new# 後で置換後の文字列(new)に置換し直す必要があるplaceholderを辞書(valid_replacements)に記録しておく。\n",
    "    #placeholderを置換後の文字列(new)に置換)\n",
    "    for placeholder, new in valid_replacements.items():\n",
    "        text = text.replace(placeholder, new)\n",
    "    return text\n",
    "\n",
    "\n",
    "# リスト'temporary_replacements_list_3'(\"'単語の語尾だけをカットした、完全に語根分解された状態の全単語リスト'(stem_with_part_of_speech_list)を(漢字)置換するための、(漢字)置換リスト\"の完成版)の内容確認\n",
    "with open(\"一时的な置換用のリスト配列(temporary_replacements_list_3).json\", \"w\", encoding=\"utf-8\") as g:\n",
    "    json.dump(temporary_replacements_list_3, g, ensure_ascii=False, indent=2)  # ensure_ascii=FalseでUnicodeをそのまま出力\n",
    "# with open(\"一时的な置換用のリスト配列(temporary_replacements_list_3).json\", \"r\", encoding=\"utf-8\") as g:\n",
    "#     temporary_replacements_list_3_experiment = json.load(g)"
   ]
  },
  {
   "cell_type": "code",
   "execution_count": 15,
   "id": "2b206c48",
   "metadata": {},
   "outputs": [
    {
     "data": {
      "text/plain": [
       "50678"
      ]
     },
     "execution_count": 15,
     "metadata": {},
     "output_type": "execute_result"
    }
   ],
   "source": [
    "len(stem_with_part_of_speech_list)"
   ]
  },
  {
   "cell_type": "markdown",
   "id": "0973d454",
   "metadata": {},
   "source": [
    "以下の2つはスキップしても良い。(時間がかかるので)"
   ]
  },
  {
   "cell_type": "code",
   "execution_count": 67,
   "id": "84a1e226",
   "metadata": {},
   "outputs": [],
   "source": [
    "# このセルの処理が全体を通して一番時間がかかる(数十秒)\n",
    "# '単語の語尾だけをカットした、完全に語根分解された状態の全単語リスト'(stem_with_part_of_speech_list)を実際にリスト'temporary_replacements_list_3'((漢字)置換リストの完成版)によって(漢字)置換。　\n",
    "# ここで作成される、\"(漢字)置換し終えた辞書型配列\"(pre_replacements_dict_1)が最終的な(漢字)置換リストの大元になる。\n",
    "# リスト'stem_with_part_of_speech_list'までは情報の損失は殆どないはず。\n",
    "\n",
    "pre_replacements_dict_1={}\n",
    "for j in stem_with_part_of_speech_list:##20秒ほどかかる。　先にリストの要素を全て結合して、一つの文字列にしてから(漢字)置換する方法を試しても(上述)、さほど高速化しなかった。\n",
    "    if len(j)==2:##(j[0]がエスペラント語根、j[1]が品詞。)\n",
    "        if len(j[0])>=2:##2文字以上のエスペラント語根のみが対象  3で良いのでは(202412)\n",
    "            if j[0] in pre_replacements_dict_1:\n",
    "                if j[1] not in pre_replacements_dict_1[j[0]][1]:\n",
    "                    pre_replacements_dict_1[j[0]] = [pre_replacements_dict_1[j[0]][0],pre_replacements_dict_1[j[0]][1] + ', ' + j[1]]##複数品詞の追加\n",
    "            else:\n",
    "                pre_replacements_dict_1[j[0]]=[safe_replace(j[0], temporary_replacements_list_3),j[1]]##辞書敷配列の追加法\n"
   ]
  },
  {
   "cell_type": "code",
   "execution_count": 16,
   "id": "439b5949",
   "metadata": {},
   "outputs": [
    {
     "ename": "NameError",
     "evalue": "name 'pre_replacements_dict_1' is not defined",
     "output_type": "error",
     "traceback": [
      "\u001b[0;31m---------------------------------------------------------------------------\u001b[0m",
      "\u001b[0;31mNameError\u001b[0m                                 Traceback (most recent call last)",
      "Cell \u001b[0;32mIn[16], line 2\u001b[0m\n\u001b[1;32m      1\u001b[0m \u001b[38;5;66;03m# 上の作業で作成した辞書型リスト(pre_replacements_dict_1)の最初から20個分を表示\u001b[39;00m\n\u001b[0;32m----> 2\u001b[0m \u001b[38;5;28;01mfor\u001b[39;00m key, value \u001b[38;5;129;01min\u001b[39;00m \u001b[38;5;28mdict\u001b[39m(\u001b[38;5;28mlist\u001b[39m(\u001b[43mpre_replacements_dict_1\u001b[49m\u001b[38;5;241m.\u001b[39mitems())[:\u001b[38;5;241m5\u001b[39m])\u001b[38;5;241m.\u001b[39mitems():\n\u001b[1;32m      3\u001b[0m     \u001b[38;5;28mprint\u001b[39m(\u001b[38;5;124mf\u001b[39m\u001b[38;5;124m\"\u001b[39m\u001b[38;5;132;01m{\u001b[39;00mkey\u001b[38;5;132;01m}\u001b[39;00m\u001b[38;5;124m: \u001b[39m\u001b[38;5;132;01m{\u001b[39;00mvalue\u001b[38;5;132;01m}\u001b[39;00m\u001b[38;5;124m\"\u001b[39m)\n\u001b[1;32m      4\u001b[0m \u001b[38;5;28;01mwith\u001b[39;00m \u001b[38;5;28mopen\u001b[39m(\u001b[38;5;124m\"\u001b[39m\u001b[38;5;124m置換用の辞書型配列(pre_replacements_dict_1).json\u001b[39m\u001b[38;5;124m\"\u001b[39m, \u001b[38;5;124m\"\u001b[39m\u001b[38;5;124mw\u001b[39m\u001b[38;5;124m\"\u001b[39m, encoding\u001b[38;5;241m=\u001b[39m\u001b[38;5;124m\"\u001b[39m\u001b[38;5;124mutf-8\u001b[39m\u001b[38;5;124m\"\u001b[39m) \u001b[38;5;28;01mas\u001b[39;00m g:\n",
      "\u001b[0;31mNameError\u001b[0m: name 'pre_replacements_dict_1' is not defined"
     ]
    }
   ],
   "source": [
    "# 上の作業で作成した辞書型リスト(pre_replacements_dict_1)の最初から20個分を表示\n",
    "for key, value in dict(list(pre_replacements_dict_1.items())[:5]).items():\n",
    "    print(f\"{key}: {value}\")\n",
    "with open(\"置換用の辞書型配列(pre_replacements_dict_1).json\", \"w\", encoding=\"utf-8\") as g:\n",
    "    json.dump(pre_replacements_dict_1, g, ensure_ascii=False, indent=2)  # ensure_ascii=FalseでUnicodeをそのまま出力\n",
    "# with open(\"置換用の辞書型配列(pre_replacements_dict_1).json\", \"r\", encoding=\"utf-8\") as g:\n",
    "#     pre_replacements_dict_1_experiment = json.load(g)"
   ]
  },
  {
   "cell_type": "code",
   "execution_count": 17,
   "id": "f0c0c4f2",
   "metadata": {},
   "outputs": [
    {
     "name": "stdout",
     "output_type": "stream",
     "text": [
      "abak: ['abak', '名词']\n",
      "abat/ec: ['<ruby>abat<rt class=\"ruby-M_M_M\">修道院長</rt></ruby>/<ruby>ec<rt class=\"ruby-M_M_M\">性質</rt></ruby>', '名词']\n",
      "abat/ej: ['<ruby>abat<rt class=\"ruby-M_M_M\">修道院長</rt></ruby>/<ruby>ej<rt class=\"ruby-M_M_M\">場所</rt></ruby>', '名词']\n",
      "abat/in: ['<ruby>abat<rt class=\"ruby-M_M_M\">修道院長</rt></ruby>/<ruby>in<rt class=\"ruby-M_M_M\">女性</rt></ruby>', '名词']\n",
      "abat: ['<ruby>abat<rt class=\"ruby-M_M_M\">修道院長</rt></ruby>', '名词']\n"
     ]
    }
   ],
   "source": [
    "import json\n",
    "# JSONファイルから辞書を再構築する\n",
    "with open(\"置換用の辞書型配列(pre_replacements_dict_1).json\", \"r\", encoding=\"utf-8\") as g:\n",
    "    pre_replacements_dict_1 = json.load(g)\n",
    "# 再構築された辞書の内容を表示\n",
    "for key, value in dict(list(pre_replacements_dict_1.items())[:5]).items():\n",
    "    print(f\"{key}: {value}\")"
   ]
  },
  {
   "cell_type": "code",
   "execution_count": 18,
   "id": "c50173c1",
   "metadata": {},
   "outputs": [],
   "source": [
    "# pre_replacements_dict_1の中で2通りに語根分解されてしまっているものが存在しないかを確認\n",
    "# スラッシュを取り除いたキーでデータを整理するための辞書\n",
    "normalized_keys = {}\n",
    "\n",
    "# 各キーからスラッシュを取り除き、既存のキーとして整理\n",
    "for old, value in pre_replacements_dict_1.items():\n",
    "    # スラッシュを取り除く\n",
    "    normalized_key = old.replace('/', '')\n",
    "\n",
    "    # 辞書に追加\n",
    "    if normalized_key not in normalized_keys:\n",
    "        normalized_keys[normalized_key] = []\n",
    "    normalized_keys[normalized_key].append((old, value))\n",
    "\n",
    "# 抜き出すためのファイル出力\n",
    "with open(\"pre_replacements_dict_1_重复.txt\", 'w', encoding='utf-8') as file:\n",
    "    for key, entries in normalized_keys.items():\n",
    "        # 同じ語根を持つ要素が複数ある場合のみファイルに書き込む\n",
    "        if len(entries) > 1:\n",
    "            for old, value in entries:\n",
    "                file.write(f'  {old},{value[0]},{value[1]}  ||')\n",
    "            file.write('\\n')\n",
    "\n",
    "# 各語根ごとに最長のキー(一番細かく語根分解されているもの)を保持する辞書\n",
    "# max_length_keys = {}\n",
    "\n",
    "# # スラッシュを取り除いた語根をキーとして、最長のキーと値を保存\n",
    "# for old, value in pre_replacements_dict_1.items():\n",
    "#     # スラッシュを取り除く\n",
    "#     normalized_key = old.replace('/', '')\n",
    "#     # 辞書にこの語根が存在するか、存在する場合は現在のキーと比較\n",
    "#     if normalized_key not in max_length_keys or len(max_length_keys[normalized_key][0]) < len(old):\n",
    "#         max_length_keys[normalized_key] = (old, value)\n",
    "\n",
    "# # 最終的な辞書を作成   pre_replacements_dict_1_ と　pre_replacements_dict_1 は 単語3個分(\"pre_replacements_dict_1_重复.txt\"の分)しか変わらない、ほとんど同じ辞書型配列である。\n",
    "# pre_replacements_dict_1_ = {k: v for _, (k, v) in max_length_keys.items()}\n",
    "\n",
    "# len(pre_replacements_dict_1),len(pre_replacements_dict_1_)\n",
    "\n",
    "# with open(\"置換用の辞書型配列(pre_replacements_dict_1_).json\", \"w\", encoding=\"utf-8\") as g:\n",
    "    # json.dump(pre_replacements_dict_1_, g, ensure_ascii=False, indent=2)  # ensure_ascii=FalseでUnicodeをそのまま出力\n",
    "# with open(\"置換用の辞書型配列(pre_replacements_dict_1_).json\", \"r\", encoding=\"utf-8\") as g:\n",
    "#     pre_replacements_dict_1_experiment = json.load(g)\n",
    "\n",
    "# # 品詞によって語根分解の仕方を変えることは可能か？20241207\n"
   ]
  },
  {
   "cell_type": "code",
   "execution_count": 19,
   "id": "3f15b8d1",
   "metadata": {},
   "outputs": [],
   "source": [
    "\n",
    "keys_to_remove = ['domen', 'teren','post/e/n']\n",
    "for key in keys_to_remove:\n",
    "    pre_replacements_dict_1.pop(key, None)  # 'None' はキーが存在しない場合に返すデフォルト"
   ]
  },
  {
   "cell_type": "markdown",
   "id": "c3568945",
   "metadata": {},
   "source": [
    "ここから、\"'単語の語尾だけをカットした、完全に語根分解された状態の全単語リスト'(stem_with_part_of_speech_list)を(漢字)置換し終えたリスト(辞書型)\"(pre_replacements_dict_1)を最終的な(漢字)置換リストに成形していく。"
   ]
  },
  {
   "cell_type": "code",
   "execution_count": 14,
   "id": "5f1bbd16",
   "metadata": {},
   "outputs": [],
   "source": [
    "##更改替换方式(关于如何更改汉字转换,请编辑第一个csv文件)  置換の仕方の変更((漢字)変換の内容の変更については最初のcsvファイルを編集する)\n",
    "# never_used_as_roots_only=[\" vin \",\" lin \",\" min \",\" amas \"]\n",
    "# for i in never_used_as_roots_only:\n",
    "#     pre_replacements_dict_1[i]=[i,\"無詞\"]"
   ]
  },
  {
   "cell_type": "code",
   "execution_count": 20,
   "id": "1cc487f7",
   "metadata": {},
   "outputs": [],
   "source": [
    "##ここで、2通りの語根分解を消去していると考えられるが、品詞別に語根分解の方法を残すべきではないのか→日本語版の全単語語根分解リストについては解決。??202412\n",
    "\n",
    "## pre_replacements_dict_1→pre_replacements_dict_2  (\"'単語の語尾だけをカットした、完全に語根分解された状態の全単語リスト'(stem_with_part_of_speech_list)を(漢字)置換し終えたリスト\"(pre_replacements_dict_1)を最終的な(漢字)置換リストに成形していく。)\n",
    "##pre_replacements_dict_1の'置換対象の単語'、'(漢字)置換後の単語'から\"/\"を抜く(html形式にしたい場合、\"</rt></ruby>\"は\"/\"を含むので要注意！)。\n",
    "##新たに置換優先順位を表す数字を追加し((漢字)置換する単語は'文字数×10000'、(漢字)置換しない単語は'文字数×10000-3000')、辞書型配列pre_replacements_dict_2として保存。\n",
    "pre_replacements_dict_2={}\n",
    "for i,j in pre_replacements_dict_1.items():##(iが置換対象の単語、j[0]が(漢字)置換後の単語、j[1]が品詞。)\n",
    "    if i==j[0]:##(漢字)置換しない単語  ⇓はhtml形式でなくてもしても大丈夫な処理なので、出力形式が'括弧形式'や'変換語文字列のみ(単純な置換)'であっても心配無用。\n",
    "        pre_replacements_dict_2[i.replace('/', '')]=[j[0].replace(\"</rt></ruby>\",\"%%%\").replace('/', '').replace(\"%%%\",\"</rt></ruby>\"),j[1],len(i.replace('/', ''))*10000-3000]##(漢字)置換しない単語は優先順位を下げる\n",
    "    else:\n",
    "        pre_replacements_dict_2[i.replace('/', '')]=[j[0].replace(\"</rt></ruby>\",\"%%%\").replace('/', '').replace(\"%%%\",\"</rt></ruby>\"),j[1],len(i.replace('/', ''))*10000]\n",
    "\n",
    "\n",
    "with open(\"置換用の辞書型配列(pre_replacements_dict_2).json\", \"w\", encoding=\"utf-8\") as g:\n",
    "    json.dump(pre_replacements_dict_2, g, ensure_ascii=False, indent=2)  # ensure_ascii=FalseでUnicodeをそのまま出力\n",
    "# with open(\"置換用の辞書型配列(pre_replacements_dict_2).json\", \"r\", encoding=\"utf-8\") as g:\n",
    "#     pre_replacements_dict_2 = json.load(g)\n"
   ]
  },
  {
   "cell_type": "code",
   "execution_count": 21,
   "id": "73637b31",
   "metadata": {},
   "outputs": [
    {
     "data": {
      "text/plain": [
       "{'as': '<ruby>as<rt class=\"ruby-S_S_S\">現在形</rt></ruby>',\n",
       " 'is': '<ruby>is<rt class=\"ruby-S_S_S\">過去形</rt></ruby>',\n",
       " 'os': '<ruby>os<rt class=\"ruby-S_S_S\">未来形</rt></ruby>',\n",
       " 'us': '<ruby>us<rt class=\"ruby-S_S_S\">条件法</rt></ruby>',\n",
       " 'at': '<ruby>at<rt class=\"ruby-S_S_S\">受動継続</rt></ruby>',\n",
       " 'it': '<ruby>it<rt class=\"ruby-S_S_S\">受動完了</rt></ruby>',\n",
       " 'ot': '<ruby>ot<rt class=\"ruby-S_S_S\">受動将然</rt></ruby>',\n",
       " 'ad': '<ruby>ad<rt class=\"ruby-S_S_S\">継続行為</rt></ruby>',\n",
       " 'igx': '<ruby>igx<rt class=\"ruby-L_L_L\">なる</rt></ruby>',\n",
       " 'ig': '<ruby>ig<rt class=\"ruby-S_S_S\">させる</rt></ruby>',\n",
       " 'ant': '<ruby>ant<rt class=\"ruby-S_S_S\">能動;継続</rt></ruby>',\n",
       " 'int': '<ruby>int<rt class=\"ruby-S_S_S\">能動;完了</rt></ruby>',\n",
       " 'ont': '<ruby>ont<rt class=\"ruby-S_S_S\">能動;将然</rt></ruby>'}"
      ]
     },
     "execution_count": 21,
     "metadata": {},
     "output_type": "execute_result"
    }
   ],
   "source": [
    "### 基本的には动词に対してのみ活用語尾を追加し、置換対象の単語の文字数を増やす(置換の優先順位を上げる。)\n",
    "\n",
    "verb_suffix_2l={'as':'as', 'is':'is', 'os':'os', 'us':'us','at':'at','it':'it','ot':'ot', 'ad':'ad','igx':'igx','ig':'ig','ant':'ant','int':'int','ont':'ont'}\n",
    "##接頭辞接尾時の追加については、主に动词が対象である。\n",
    "verb_suffix_2l_2={}\n",
    "for original_verb_suffix,replaced_verb_suffix in verb_suffix_2l.items():\n",
    "    verb_suffix_2l_2[original_verb_suffix]=safe_replace(replaced_verb_suffix, temporary_replacements_list_3)\n",
    "verb_suffix_2l_2"
   ]
  },
  {
   "cell_type": "code",
   "execution_count": 22,
   "id": "8afa98d8",
   "metadata": {},
   "outputs": [],
   "source": [
    "###一番の工夫ポイント(如何にして置換の優先順位を定め、置換精度を向上させるか。)\n",
    "##基本は単語の文字数が多い順に置換していくことになるが、\n",
    "##例えば、\"置換対象の単語に接頭辞、接尾辞を追加し、単語の文字数を増やし、置換の優先順位を上げたものを、置換対象の単語として新たに追加する。\"などが、置換精度を上げる方策として考えられる。\n",
    "##しかし、いろいろ試した結果、动词に対してのみ活用語尾を追加し、置換対象の単語の文字数を増やす(置換の優先順位を上げる。)のが、ベストに近いことがわかった。\n",
    "\n",
    "## pre_replacements_dict_1→pre_replacements_dict_2→pre_replacements_dict_3  (\"'単語の語尾だけをカットした、完全に語根分解された状態の全単語リスト'(stem_with_part_of_speech_list)を(漢字)置換し終えたリスト\"(pre_replacements_dict_1)を最終的な(漢字)置換リストに成形していく。)\n",
    "\n",
    "overlap_1,overlap_2,overlap_3,overlap_4,overlap_5,overlap_6,overlap_7,overlap_8=[],[],[],[],[],[],[],[]\n",
    "overlap_9,overlap_10,overlap_11,overlap_12,overlap_13,overlap_14,overlap_15,overlap_16=[],[],[],[],[],[],[],[]\n",
    "count_0,count_1,count_2,count_3,count_4,count_5=0,0,0,0,0,0\n",
    "adj_1,adj_2,adj_3,adj_4=0,0,0,0\n",
    "### pre_replacements_dict_3内での重複の検査　をし、それを元に、以下のセルにおける修正がなされている。\n",
    "pre_replacements_dict_3={}\n",
    "# 辞書をコピーする\n",
    "pre_replacements_dict_2_copy = pre_replacements_dict_2.copy()##これがあるので、2回繰り返しするときは2個前のセルに戻ってpre_replacements_dict_2を作り直してからでないといけない。\n",
    "for i,j in pre_replacements_dict_2_copy.items():##j[0]:置換後の文字列　j[1]:品詞 j[2]:置換優先順位\n",
    "    if (j[1] == \"名词\") and (len(i)<=6) and not(j[2]==60000 or j[2]==50000 or j[2]==40000 or j[2]==30000 or j[2]==20000):##名词だけで、6文字以下で、(漢字)置換しないやつ  ##置換ミスを防ぐための条件(20240614) altajo,aviso,malm,abes 固有名词対策  意味ふりがなのときは再検討\n",
    "        for k in [\"o\"]:##4 ['buro', 'haloo', 'tauxro', 'unesko']\n",
    "            if not i+k in pre_replacements_dict_2_copy:##if not ありのままで良い。\n",
    "                pre_replacements_dict_3[i+k]=[j[0]+k,j[2]+len(k)*10000-2000]#実質5000 #既存でないものは優先順位を大きく下げる→普通の品詞接尾辞が既存でないという言い方はおかしい気がしてきた。(20240612)\n",
    "                count_0+=1\n",
    "            else:\n",
    "                overlap_1.append([i+k,pre_replacements_dict_2_copy[i+k][0],j[0]+k])\n",
    "        pre_replacements_dict_2.pop(i, None)\n",
    "        count_1+=1\n",
    "\n",
    "\n",
    "for i,j in pre_replacements_dict_2.items():##j[0]:置換後の文字列　j[1]:品詞 j[2]:置換優先順位\n",
    "    if j[2]==20000:##2文字で(漢字)置換するやつ##len(i)<=2:#1文字は存在しないはずではある。\n",
    "        ##基本的に非动词の2文字の語根単体を以て(漢字)置換することはない。　ただし、世界语全部单词_大约44100个(原pejvo.txt).txtに最初から含まれている2文字の語根は既に(漢字)置換されており、実際の(漢字)置換にも反映されることになる。\n",
    "        ##2文字の語根でも、动词については活用語尾を追加することで、自動的に+2文字以上できるので追加した。\n",
    "        if \"名词\" in j[1]:\n",
    "            for k in [\"o\",\"on\",'oj']:##\"ojn\"は不要か\n",
    "                if not i+k in pre_replacements_dict_2:\n",
    "                    pre_replacements_dict_3[' '+i+k]=[' '+j[0]+k,j[2]+(len(k)+1)*10000-5000]\n",
    "                else:\n",
    "                    overlap_2.append([i+k,pre_replacements_dict_2_copy[i+k][0],j[0]+k])\n",
    "        if \"形容词\" in j[1]:\n",
    "            for k in [\"a\",\"aj\",'an']:##\"ajn\"は不要か  ##sia pian ,'an 'も不要\n",
    "                # if not i+k in pre_replacements_dict_2:##if not なしのほうが良い\n",
    "                pre_replacements_dict_3[' '+i+k]=[' '+j[0]+k,j[2]+(len(k)+1)*10000-5000]\n",
    "            adj_1+=1\n",
    "        if \"副词\" in j[1]:\n",
    "            for k in [\"e\"]:##ege   エーゲ海を意味するegeoを元の辞書に追加\n",
    "                # if not i+k in pre_replacements_dict_2:##if not なしのほうが良い\n",
    "                pre_replacements_dict_3[' '+i+k]=[' '+j[0]+k,j[2]+(len(k)+1)*10000-5000]\n",
    "        if \"动词\" in j[1]:\n",
    "            for k1,k2 in verb_suffix_2l_2.items():\n",
    "                if not i+k1 in pre_replacements_dict_2:\n",
    "                    pre_replacements_dict_3[i+k1]=[j[0]+k2,j[2]+len(k1)*10000-3000]\n",
    "            for k in [\"u \",\"i \",\"u\",\"i\"]:##动词の\"u\",\"i\"単体の接尾辞は後ろが空白と決まっているので、2文字分増やすことができる。\n",
    "                if not i+k in pre_replacements_dict_2:\n",
    "                    pre_replacements_dict_3[i+k]=[j[0]+k,j[2]+len(k)*10000-3000]\n",
    "        count_2+=1\n",
    "\n",
    "    else:\n",
    "        pre_replacements_dict_3[i]=[j[0],j[2]]##品詞情報はここで用いるためにあった。以後は不要なので省いていく。\n",
    "        if j[2]==60000 or j[2]==50000 or j[2]==40000 or j[2]==30000:##文字数が比較的少なく(<=5)、実際に(漢字)置換するエスペラント語根(文字数×10000)のみを対象とする \n",
    "            if \"名词\" in j[1]:##名词については形容词、副词と違い、(漢字)置換しないものにもoをつける。\n",
    "                for k in [\"o\",\"on\",'oj']:\n",
    "                    if not i+k in pre_replacements_dict_2:\n",
    "                        pre_replacements_dict_3[i+k]=[j[0]+k,j[2]+len(k)*10000-3000]#既存でないものは優先順位を大きく下げる→普通の品詞接尾辞が既存でないという言い方はおかしい気がしてきた。(20240612)\n",
    "            if \"形容词\" in j[1]:\n",
    "                for k in [\"a\",\"aj\",'an']:\n",
    "                    if not i+k in pre_replacements_dict_2:\n",
    "                        pre_replacements_dict_3[i+k]=[j[0]+k,j[2]+len(k)*10000-3000]\n",
    "            if \"副词\" in j[1]:\n",
    "                for k in [\"e\"]:\n",
    "                    if not i+k in pre_replacements_dict_2:\n",
    "                        pre_replacements_dict_3[i+k]=[j[0]+k,j[2]+len(k)*10000-3000]\n",
    "            if \"动词\" in j[1]:\n",
    "                for k1,k2 in verb_suffix_2l_2.items():\n",
    "                    if not i+k1 in pre_replacements_dict_2:\n",
    "                        pre_replacements_dict_3[i+k1]=[j[0]+k2,j[2]+len(k1)*10000-3000]\n",
    "                for k in [\"u \",\"i \",\"u\",\"i\"]:##动词の\"u\",\"i\"単体の接尾辞は後ろが空白と決まっているので、2文字分増やすことができる。\n",
    "                    if not i+k in pre_replacements_dict_2:\n",
    "                        pre_replacements_dict_3[i+k]=[j[0]+k,j[2]+len(k)*10000-3000]\n",
    "            count_3+=1\n",
    "        elif len(i)>=3 and len(i)<=6:##3文字から6文字の語根で(漢字)置換しないもの　　結局2文字の語根で(漢字)置換しないものについては、完全に除外している。\n",
    "            if \"名词\" in j[1]:##名词については形容词、副词と違い、(漢字)置換しないものにもoをつける。\n",
    "                for k in [\"o\"]:\n",
    "                    if not i+k in pre_replacements_dict_2:\n",
    "                        pre_replacements_dict_3[i+k]=[j[0]+k,j[2]+len(k)*10000-5000]#実質3000#既存でないものは優先順位を大きく下げる→普通の品詞接尾辞が既存でないという言い方はおかしい気がしてきた。(20240612)\n",
    "            if \"形容词\" in j[1]:\n",
    "                for k in [\"a\"]:\n",
    "                    if not i+k in pre_replacements_dict_2:\n",
    "                        pre_replacements_dict_3[i+k]=[j[0]+k,j[2]+len(k)*10000-5000]\n",
    "            if \"副词\" in j[1]:\n",
    "                for k in [\"e\"]:\n",
    "                    if not i+k in pre_replacements_dict_2:\n",
    "                        pre_replacements_dict_3[i+k]=[j[0]+k,j[2]+len(k)*10000-5000]\n",
    "            count_4+=1\n",
    "            "
   ]
  },
  {
   "cell_type": "code",
   "execution_count": 23,
   "id": "d6916dfb",
   "metadata": {},
   "outputs": [
    {
     "name": "stdout",
     "output_type": "stream",
     "text": [
      "2604 74 6996 1005\n",
      "[['buro', 'buro', 'buro'], ['haloo', 'haloo', 'haloo'], ['tauxro', 'tauxro', 'tauxro'], ['unesko', 'unesko', 'unesko']] [['alo', '<ruby>alo<rt class=\"ruby-M_M_M\">アロエ</rt></ruby>', '<ruby>al<rt class=\"ruby-S_S_S\">~の方へ</rt></ruby>o'], ['duon', '<ruby>du<rt class=\"ruby-X_X_X\">二</rt></ruby><ruby>on<rt class=\"ruby-M_M_M\">分数</rt></ruby>', '<ruby>du<rt class=\"ruby-X_X_X\">二</rt></ruby>on'], ['okon', '<ruby>ok<rt class=\"ruby-X_X_X\">八</rt></ruby><ruby>on<rt class=\"ruby-M_M_M\">分数</rt></ruby>', '<ruby>ok<rt class=\"ruby-X_X_X\">八</rt></ruby>on']]\n"
     ]
    }
   ],
   "source": [
    "print(count_1,count_2,count_3,count_4)\n",
    "print(overlap_1,overlap_2)"
   ]
  },
  {
   "cell_type": "code",
   "execution_count": 18,
   "id": "2a40a104",
   "metadata": {},
   "outputs": [],
   "source": [
    "AN=[['dietan', '/diet/an/', '/diet/an'], ['afrikan', '/afrik/an/', '/afrik/an'], ['movadan', '/mov/ad/an/', '/mov/ad/an'], ['akcian', '/akci/an/', '/akci/an'], ['montaran', '/mont/ar/an/', '/mont/ar/an'], ['amerikan', '/amerik/an/', '/amerik/an'], ['regnan', '/regn/an/', '/regn/an'], ['dezertan', '/dezert/an/', '/dezert/an'], ['asocian', '/asoci/an/', '/asoci/an'], ['insulan', '/insul/an/', '/insul/an'], ['azian', '/azi/an/', '/azi/an'], ['sxtatan', '/sxtat/an/', '/sxtat/an'], ['doman', '/dom/an/', '/dom/an'], ['montan', '/mont/an/', '/mont/an'], ['familian', '/famili/an/', '/famili/an'], ['urban', '/urb/an/', '/urb/an'], ['popolan', '/popol/an/', '/popol/an'], ['dekan', '/dekan/', '/dek/an'], ['partian', '/parti/an/', '/parti/an'], ['lokan', '/lok/an/', '/lok/an'], ['sxipan', '/sxip/an/', '/sxip/an'], ['eklezian', '/eklezi/an/', '/eklezi/an'], ['landan', '/land/an/', '/land/an'], ['orientan', '/orient/an/', '/orient/an'], ['lernejan', '/lern/ej/an/', '/lern/ej/an'], ['enlandan', '/en/land/an/', '/en/land/an'], ['kalkan', '/kalkan/', '/kalk/an'], ['estraran', '/estr/ar/an/', '/estr/ar/an'], ['etnan', '/etn/an/', '/etn/an'], ['euxropan', '/euxrop/an/', '/euxrop/an'], ['fazan', '/fazan/', '/faz/an'], ['polican', '/polic/an/', '/polic/an'], ['socian', '/soci/an/', '/soci/an'], ['societan', '/societ/an/', '/societ/an'], ['grupan', '/grup/an/', '/grup/an'], ['ligan', '/lig/an/', '/lig/an'], ['nacian', '/naci/an/', '/naci/an'], ['koran', '/koran/', '/kor/an'], ['religian', '/religi/an/', '/religi/an'], ['kuban', '/kub/an/', '/kub/an'], ['majoran', '/major/an/', '/major/an'], ['marian', 'marian', '/mari/an'], ['nordan', '/nord/an/', '/nord/an'], ['paran', 'paran', '/par/an'], ['parizan', '/pariz/an/', '/pariz/an'], ['parokan', '/parok/an/', '/parok/an'], ['podian', '/podi/an/', '/podi/an'], ['rusian', '/rus/i/an/', '/rus/ian'], ['satan', '/satan/', '/sat/an'], ['sektan', '/sekt/an/', '/sekt/an'], ['senatan', '/senat/an/', '/senat/an'], ['skisman', '/skism/an/', '/skism/an'], ['sudan', 'sudan', '/sud/an'], ['utopian', '/utopi/an/', '/utopi/an'], ['vilagxan', '/vilagx/an/', '/vilagx/an']]\n",
    "ON=[['duon', '/du/on/', '/du/on'], ['okon', '/ok/on/', '/ok/on'], ['nombron', '/nombr/on/', '/nombr/on'], ['patron', '/patron/', '/patr/on'], ['karbon', '/karbon/', '/karb/on'], ['ciklon', '/ciklon/', '/cikl/on'], ['aldon', '/al/don/', '/ald/on'], ['balon', '/balon/', '/bal/on'], ['baron', '/baron/', '/bar/on'], ['baston', '/baston/', '/bast/on'], ['magneton', '/magnet/on/', '/magnet/on'], ['beton', 'beton', '/bet/on'], ['bombon', '/bombon/', '/bomb/on'], ['breton', 'breton', '/bret/on'], ['burgxon', '/burgxon/', '/burgx/on'], ['centon', '/cent/on/', '/cent/on'], ['milon', '/mil/on/', '/mil/on'], ['kanton', '/kanton/', '/kant/on'], ['citron', '/citron/', '/citr/on'], ['platon', 'platon', '/plat/on'], ['dekon', '/dek/on/', '/dek/on'], ['kvaron', '/kvar/on/', '/kvar/on'], ['kvinon', '/kvin/on/', '/kvin/on'], ['seson', '/ses/on/', '/ses/on'], ['trion', '/tri/on/', '/tri/on'], ['karton', '/karton/', '/kart/on'], ['foton', '/fot/on/', '/fot/on'], ['peron', '/peron/', '/per/on'], ['elektron', '/elektr/on/', '/elektr/on'], ['drakon', 'drakon', '/drak/on'], ['mondon', '/mon/don/', '/mond/on'], ['pension', '/pension/', '/pensi/on'], ['ordon', '/ordon/', '/ord/on'], ['eskadron', 'eskadron', '/eskadr/on'], ['senton', '/sen/ton/', '/sent/on'], ['eston', 'eston', '/est/on'], ['fanfaron', '/fanfaron/', '/fanfar/on'], ['feston', '/feston/', '/fest/on'], ['flegmon', 'flegmon', '/flegm/on'], ['fronton', '/fronton/', '/front/on'], ['galon', '/galon/', '/gal/on'], ['mason', '/mason/', '/mas/on'], ['helikon', 'helikon', '/helik/on'], ['kanon', '/kanon/', '/kan/on'], ['kapon', '/kapon/', '/kap/on'], ['kokon', '/kokon/', '/kok/on'], ['kolon', '/kolon/', '/kol/on'], ['komision', '/komision/', '/komisi/on'], ['salon', '/salon/', '/sal/on'], ['ponton', '/ponton/', '/pont/on'], ['koton', '/koton/', '/kot/on'], ['kripton', 'kripton', '/kript/on'], ['kupon', '/kupon/', '/kup/on'], ['lakon', 'lakon', '/lak/on'], ['ludon', '/lu/don/', '/lud/on'], ['melon', '/melon/', '/mel/on'], ['menton', '/menton/', '/ment/on'], ['milion', '/milion/', '/mili/on'], ['milionon', '/milion/on/', '/milion/on'], ['nauxon', '/naux/on/', '/naux/on'], ['violon', '/violon/', '/viol/on'], ['trombon', '/trombon/', '/tromb/on'], ['senson', '/sen/son/', '/sens/on'], ['sepon', '/sep/on/', '/sep/on'], ['skadron', 'skadron', '/skadr/on'], ['stadion', '/stadion/', '/stadi/on'], ['tetraon', 'tetraon', '/tetra/on'], ['timon', '/timon/', '/tim/on'], ['valon', 'valon', '/val/on']]\n",
    "AT=[['agat', '/agat/', '/ag/at/'], ['sonat', '/sonat/', '/son/at/'], ['format', '/format/', '/form/at/'], ['kantat', '/kantat/', '/kant/at/'], ['diplomat', '/diplomat/', '/diplom/at/'], ['salat', '/salat/', '/sal/at/'], ['legat', '/legat/', '/leg/at/'], ['predikat', '/predikat/', '/predik/at/'], ['rabat', '/rabat/', '/rab/at/'], ['sendat', '/sen/dat/', '/send/at/'], ['traktat', '/traktat/', '/trakt/at/']]\n",
    "IT=[['agit', '/agit/', '/ag/it/'], ['irit', 'irit', '/ir/it/'], ['gravit', 'gravit', '/grav/it/'], ['spirit', '/spirit/', '/spir/it/'], ['trilit', '/tri/lit/', '/tril/it/'], ['vizit', '/vizit/', '/viz/it/']]\n",
    "SONOTA=[['alo', '/alo/', '/al/o'], ['alte', '/alte/', '/alt/e'], ['apoge', '/apoge/', '/apog/e'], ['kaze', '/kaze/', '/kaz/e'], ['inka', 'inka', '/ink/a'], ['pere', '/pere/', '/per/e'], ['fero', 'fero', '/fer/o'], ['havaj', 'havaj', '/hav/aj'], ['kore', 'kore', '/kor/e'], ['lama', '/lama/', '/lam/a'], ['malaj', 'malaj', '/mal/aj'], ['male', 'male', '/mal/e'], ['refoj', '/re/foj/', '/ref/oj'], ['samo', 'samo', '/sam/o'], ['savoj', 'savoj', '/sav/oj'], ['sole', '/sole/', '/sol/e'], ['veto', 'veto', '/vet/o'], ['amas', '/amas/', '/am/as/'], ['iris', '/iris/', '/ir/is/'], ['regulus', 'regulus', '/regul/us/'], ['agxi', '/agxi/', '/agx/i'], ['akirant', 'akirant', '/akir/ant/'], ['radius', 'radius', '/radi/us/'], ['premis', '/premis/', '/prem/is/'], ['premi', '/premi/', '/prem/i'], ['bari', 'bari', '/bar/i'], ['markot', '/markot/', '/mark/ot/'], ['tempi', '/tempi/', '/temp/i'], ['noktu', '/noktu/', '/nokt/u'], ['vakcini', 'vakcini', '/vakcin/i'], ['nomad', '/nomad/', '/nom/ad/'], ['procesi', '/procesi/', '/proces/i'], ['statu', '/statu/', '/stat/u'], ['kolorad', 'kolorad', '/kolor/ad/'], ['devi', 'devi', '/dev/i'], ['diskont', '/diskont/', '/disk/ont/'], ['endos', 'endos', '/end/os/'], ['esperant', '/esperant/', '/esper/ant/'], ['feri', '/feri/', '/fer/i'], ['fleksi', '/fleksi/', '/fleks/i'], ['forkant', '/for/kant/', '/fork/ant/'], ['pensi', '/pensi/', '/pens/i'], ['konus', '/konus/', '/kon/us/'], ['jesu', '/jesu/', '/jes/u'], ['jxaluzi', 'jxaluzi', '/jxaluz/i'], ['konfesi', 'konfesi', '/konfes/i'], ['konsili', 'konsili', '/konsil/i'], ['legi', '/legi/', '/leg/i'], ['lekant', '/lekant/', '/lek/ant/'], ['licenci', 'licenci', '/licenc/i'], ['logxi', '/logxi/', '/logx/i'], ['lotus', '/lotus/', '/lot/us/'], ['malvolont', '/mal/volont/', '/mal/vol/ont/'], ['mankis', '/man/kis/', '/mank/is/'], ['meti', '/meti/', '/met/i'], ['minus', '/minus/', '/min/us/'], ['pasi', '/pasi/', '/pas/i'], ['patos', '/patos/', '/pat/os/'], ['revu', '/revu/', '/rev/u'], ['rabot', '/rabot/', '/rab/ot/'], ['rabi', '/rabi/', '/rab/i'], ['religi', '/religi/', '/re/lig/i'], ['remont', 'remont', '/rem/ont/'], ['sagu', '/sagu/', '/sag/u'], ['satirus', 'satirus', '/satir/us/'], ['sekci', '/sekci/', '/sekc/i'], ['sendot', '/sen/dot/', '/send/ot/'], ['sendi', '/sen/di/', '/send/i'], ['spirant', 'spirant', '/spir/ant/'], ['taksus', '/taksus/', '/taks/us/'], ['tenis', 'tenis', '/ten/is/'], ['teni', '/teni/', '/ten/i'], ['trikot', '/trikot/', '/trik/ot/'], ['vaku', 'vaku', '/vak/u'], ['vizi', '/vizi/', '/viz/i'], ['volont', '/volont/', '/vol/ont/']]\n",
    "# print(len(AN),len(ON),len(AT),len(IT),len(SONOTA))"
   ]
  },
  {
   "cell_type": "code",
   "execution_count": 19,
   "id": "e5525677",
   "metadata": {},
   "outputs": [],
   "source": [
    "import re\n",
    "for an in AN:\n",
    "    if an[1].endswith(\"/an/\"):\n",
    "        i2=an[1]\n",
    "        i3 = re.sub(r\"/an/$\", \"\", i2)##正規表現を使わない,\n",
    "        i4=i3+\"/an/o\"\n",
    "        i5=i3+\"/an/a\"\n",
    "        i6=i3+\"/an/e\"\n",
    "        i7=i3+\"/a/n/\"\n",
    "        pre_replacements_dict_3[i4.replace('/', '')]=[safe_replace(i4,temporary_replacements_list_3).replace(\"</rt></ruby>\",\"%%%\").replace('/', '').replace(\"%%%\",\"</rt></ruby>\"), (len(i4.replace('/', ''))-1)*10000+3000]\n",
    "        pre_replacements_dict_3[i5.replace('/', '')]=[safe_replace(i5,temporary_replacements_list_3).replace(\"</rt></ruby>\",\"%%%\").replace('/', '').replace(\"%%%\",\"</rt></ruby>\"), (len(i5.replace('/', ''))-1)*10000+3000]\n",
    "        pre_replacements_dict_3[i6.replace('/', '')]=[safe_replace(i6,temporary_replacements_list_3).replace(\"</rt></ruby>\",\"%%%\").replace('/', '').replace(\"%%%\",\"</rt></ruby>\"), (len(i6.replace('/', ''))-1)*10000+3000]\n",
    "        pre_replacements_dict_3[i7.replace('/', '')]=[safe_replace(i7,temporary_replacements_list_3).replace(\"</rt></ruby>\",\"%%%\").replace('/', '').replace(\"%%%\",\"</rt></ruby>\"), (len(i7.replace('/', ''))-1)*10000+3000]\n",
    "    else:\n",
    "        i2=an[1]\n",
    "        i2_2 = re.sub(r\"an$\", \"\", i2)##正規表現を使わないと、etn/a/n　において、etnのnまで削られてしまった。\n",
    "        i3 = re.sub(r\"an/$\", \"\", i2_2)##正規表現を使わないと、etn/a/n　において、etnのnまで削られてしまった。\n",
    "        i4=i3+\"an/o\"\n",
    "        i5=i3+\"an/a\"\n",
    "        i6=i3+\"an/e\"\n",
    "        i7=i3+\"/a/n/\"\n",
    "        pre_replacements_dict_3[i4.replace('/', '')]=[safe_replace(i4,temporary_replacements_list_3).replace(\"</rt></ruby>\",\"%%%\").replace('/', '').replace(\"%%%\",\"</rt></ruby>\"), (len(i4.replace('/', ''))-1)*10000+3000]\n",
    "        pre_replacements_dict_3[i5.replace('/', '')]=[safe_replace(i5,temporary_replacements_list_3).replace(\"</rt></ruby>\",\"%%%\").replace('/', '').replace(\"%%%\",\"</rt></ruby>\"), (len(i5.replace('/', ''))-1)*10000+3000]\n",
    "        pre_replacements_dict_3[i6.replace('/', '')]=[safe_replace(i6,temporary_replacements_list_3).replace(\"</rt></ruby>\",\"%%%\").replace('/', '').replace(\"%%%\",\"</rt></ruby>\"), (len(i6.replace('/', ''))-1)*10000+3000]\n",
    "        pre_replacements_dict_3[i7.replace('/', '')]=[safe_replace(i7,temporary_replacements_list_3).replace(\"</rt></ruby>\",\"%%%\").replace('/', '').replace(\"%%%\",\"</rt></ruby>\"), (len(i7.replace('/', ''))-1)*10000+3000]\n"
   ]
  },
  {
   "cell_type": "code",
   "execution_count": 20,
   "id": "99e7e558",
   "metadata": {},
   "outputs": [],
   "source": [
    "for on in ON:\n",
    "    if on[1].endswith(\"/on/\"):\n",
    "        i2=on[1]\n",
    "        i3 = re.sub(r\"/on/$\", \"\", i2)##正規表現を使わないと、etn/a/n　において、etnのnまで削られてしまった。\n",
    "        i4=i3+\"/on/o\"\n",
    "        i5=i3+\"/on/a\"\n",
    "        i6=i3+\"/on/e\"\n",
    "        i7=i3+\"/o/n/\"\n",
    "        pre_replacements_dict_3[i4.replace('/', '')]=[safe_replace(i4,temporary_replacements_list_3).replace(\"</rt></ruby>\",\"%%%\").replace('/', '').replace(\"%%%\",\"</rt></ruby>\"), (len(i4.replace('/', ''))-1)*10000+3000]\n",
    "        pre_replacements_dict_3[i5.replace('/', '')]=[safe_replace(i5,temporary_replacements_list_3).replace(\"</rt></ruby>\",\"%%%\").replace('/', '').replace(\"%%%\",\"</rt></ruby>\"), (len(i5.replace('/', ''))-1)*10000+3000]\n",
    "        pre_replacements_dict_3[i6.replace('/', '')]=[safe_replace(i6,temporary_replacements_list_3).replace(\"</rt></ruby>\",\"%%%\").replace('/', '').replace(\"%%%\",\"</rt></ruby>\"), (len(i6.replace('/', ''))-1)*10000+3000]\n",
    "        pre_replacements_dict_3[i7.replace('/', '')]=[safe_replace(i7,temporary_replacements_list_3).replace(\"</rt></ruby>\",\"%%%\").replace('/', '').replace(\"%%%\",\"</rt></ruby>\"), (len(i7.replace('/', ''))-1)*10000+3000]\n",
    "    else:\n",
    "        i2=on[1]\n",
    "        i2_2 = re.sub(r\"on$\", \"\", i2)##正規表現を使わないと、etn/a/n　において、etnのnまで削られてしまった。\n",
    "        i3 = re.sub(r\"on/$\", \"\", i2_2)##正規表現を使わないと、etn/a/n　において、etnのnまで削られてしまった。\n",
    "        i4=i3+\"on/o\"\n",
    "        i5=i3+\"on/a\"\n",
    "        i6=i3+\"on/e\"\n",
    "        i7=i3+\"/o/n/\"\n",
    "        pre_replacements_dict_3[i4.replace('/', '')]=[safe_replace(i4,temporary_replacements_list_3).replace(\"</rt></ruby>\",\"%%%\").replace('/', '').replace(\"%%%\",\"</rt></ruby>\"), (len(i4.replace('/', ''))-1)*10000+3000]\n",
    "        pre_replacements_dict_3[i5.replace('/', '')]=[safe_replace(i5,temporary_replacements_list_3).replace(\"</rt></ruby>\",\"%%%\").replace('/', '').replace(\"%%%\",\"</rt></ruby>\"), (len(i5.replace('/', ''))-1)*10000+3000]\n",
    "        pre_replacements_dict_3[i6.replace('/', '')]=[safe_replace(i6,temporary_replacements_list_3).replace(\"</rt></ruby>\",\"%%%\").replace('/', '').replace(\"%%%\",\"</rt></ruby>\"), (len(i6.replace('/', ''))-1)*10000+3000]\n",
    "        pre_replacements_dict_3[i7.replace('/', '')]=[safe_replace(i7,temporary_replacements_list_3).replace(\"</rt></ruby>\",\"%%%\").replace('/', '').replace(\"%%%\",\"</rt></ruby>\"), (len(i7.replace('/', ''))-1)*10000+3000]\n"
   ]
  },
  {
   "cell_type": "code",
   "execution_count": 21,
   "id": "f9837296",
   "metadata": {},
   "outputs": [],
   "source": [
    "##pre_replacements_dict_3の編集(主に置換の優先順位の変更) ここでも置換の仕方の変更ができないことはないが、品詞の種類に応じて接尾辞や接頭辞を追加するところをスキップすることになってしまう。\n",
    "\n",
    "never_used_as_roots_only=[\"vin\",\"lin\",\"sin\",\"min\",\"gxin\"]\n",
    "for i in never_used_as_roots_only:\n",
    "    pre_replacements_dict_3[i]=[i,len(i)*10000+3000]##これらについては数字の大きさはそこまで重要ではない\n",
    "# pre_replacements_dict_2[i.replace('/', '')]=[j[0].replace(\"</rt></ruby>\",\"%%%\").replace('/', '').replace(\"%%%\",\"</rt></ruby>\"),j[1],len(i.replace('/', ''))*10000-3000]##(漢字)置換しない単語は優先順位を下げる\n",
    "# output_format(hanzi_or_meaning, E_word, format_type)\n",
    "\n",
    "\n",
    "# pre_replacements_dict_3['amas']=['<ruby>爱<rt>am</rt></ruby>as',len('amas')*10000+2500]##(漢字)置換しない語根単体については上記で、うまく処理できているはずだが、amasoは群oと(漢字)置換するので。\n",
    "pre_replacements_dict_3['farigx'][1]=len('farigx')*10000+27500##優先順位だけ変更\n",
    "\n",
    "x='mond/o/n'\n",
    "pre_replacements_dict_3[x.replace('/', '')]=[safe_replace(x,temporary_replacements_list_3).replace(\"</rt></ruby>\",\"%%%\").replace('/', '').replace(\"%%%\",\"</rt></ruby>\"),  (len(x.replace('/', ''))-1)*10000+3000]\n",
    "\n",
    "##正しく語根分解・漢字変換してほしいやつ  anとenは念の為a/n/,e/n/としておく。ant,int,ontは大丈夫  空白を使うのは最終手段。  \",\"は絶対に使っては駄目\n",
    "y1=[['gvid/ant/o',73000],['am/as',33000],[\"ink/a\",33000],[\"post/e/n\",53000],[\"per/e\",33000],[\"fer/o\",33000],[\"kor/e\",33000],[\"mal/a/j\",43000],[\"mal/e\",33000],\n",
    "    ['sam/o',33000],['sav/oj',43000],['vet/o',33000],['ir/is',33000],['regul/us',63000],['akir/ant',63000],[\"prem/is\",53000],\n",
    "    [\"mark/ot\",53000],[\"kolor/ad\",63000],[\"lot/us\",43000],[\"mank/is\",53000],[\"pat/os\",43000],[\"rem/ont\",53000],[\"satir/us\",63000],[\"send/at\",53000],[\"send/ot\",53000],\n",
    "    [\"spir/ant\",63000],[\"ten/is\",43000],[\"trakt/at\",63000],[\"alt/e\",33000],[\"apog/e\",43000],[\"dom/e/n\",43000],[\"kaz/e/ \",43000],\n",
    "    [\"post/e/n\",53000],[\"posten/ul\",73000],[\"hav/a/j\",43000],[\"sol/e\",33000],[\"lam/a\",33000],\n",
    "    [\"ref/oj\",43000],[\"akir/ant\",63000],[\"ordin/at\",63000],[\"form/at\",53000],[\"kant/at\",53000],[\"end/os\",43000],\n",
    "    [\"kon/us \",53000],[\"lek/ant\",53000],[\"leg/at\",43000],[\"taks/us\",53000],[\"pi/a/n\",38000]]##[\"pi/a/n\",38000] anをa/n/で分けるのは正しくはないが。  havaj \"pi/a/n\"だけ8000に\n",
    "for i in y1:\n",
    "    pre_replacements_dict_3[i[0].replace('/', '')]=[safe_replace(i[0],temporary_replacements_list_3).replace(\"</rt></ruby>\",\"%%%\").replace('/', '').replace(\"%%%\",\"</rt></ruby>\"), i[1]]\n",
    "\n",
    "\n",
    "##正しく語根分解・漢字変換してほしいやつ  anとenは念の為a/n/,e/n/としておく。ant,int,ontは大丈夫  空白を使うのは最終手段。  \",\"は絶対に使っては駄目\n",
    "y1=[['sole/o',43000],['sole/a',43000]]##[\"pi/a/n\",38000] anをa/n/で分けるのは正しくはないが。  havaj\n",
    "for i in y1:\n",
    "    pre_replacements_dict_3[i[0].replace('/', '')]=[safe_replace(i[0],temporary_replacements_list_3).replace(\"</rt></ruby>\",\"%%%\").replace('/', '').replace(\"%%%\",\"</rt></ruby>\"), i[1]]\n",
    "\n",
    "##on系の調節(an系は現時点で調節必要なし) 空白を使うのは最終手段。  \",\"は絶対に使っては駄目   \"duon\",\"okon\"だけ8000に\n",
    "y1=[['du/on',38000],['tri/on',43000],[\"kvar/on\",53000],[\"kvin/on\",53000],[\"ses/on\",43000],[\"baston\",53000],[\"bast/o/n \",63000],[\"beton\",43000],[\"bet/o/n \",53000],[\"burgxon\",63000],[\"burgx/o/n \",73000],\n",
    "    [\"sep/on\",43000],[\"ok/on\",38000],[\"naux/on\",53000],[\"dek/on\",43000],[\"al/don\",43000],[\"ald/o/n \",53000],[\"cent/on\",53000],[\"mil/on\",43000],[\"citron\",53000],[\"citr/o/n \",63000],[\"elektr/on\",73000],[\"elektr/o/n \",83000],\n",
    "    [\"sent/o/n\",53000],[\"fanfaron\",73000],[\"fanfar/o/n \",83000],[\"kanon\",43000],[\"kan/o/n \",53000],[\"milion/on\",73000],[\"milion\",53000],[\"menton\",53000],[\"ment/o/n \",53000],[\"melon\",43000],\n",
    "    [\"mel/o/n \",53000],[\"lud/o/n\",43000],[\"kupon\",43000],[\"kup/o/n \",53000],[\"sens/o/n\",53000]]##[\"pi/a/n\",38000] anをa/n/で分けるのは正しくはないが。  havaj\n",
    "for i in y1:\n",
    "    pre_replacements_dict_3[i[0].replace('/', '')]=[safe_replace(i[0],temporary_replacements_list_3).replace(\"</rt></ruby>\",\"%%%\").replace('/', '').replace(\"%%%\",\"</rt></ruby>\"), i[1]]\n",
    "    \n",
    "##/o,/a,/eの追加\n",
    "y1=[['domen',43000],['teren',43000],[\"posten\",53000],[\"apoge\",43000],[\"tenis\",43000],[\"re/foj\",43000],[\"sen/dot\",53000],[\"sen/dat\",53000],\n",
    "    ['patos',43000],['markot',43000],[\"premis\",53000],[\"veto\",43000],[\"savoj\",43000],[\"kore\",43000]]##[\"pi/a/n\",38000] anをa/n/で分けるのは正しくはないが。  havaj\n",
    "for i in y1:\n",
    "    pre_replacements_dict_3[(i[0]+'/a').replace('/', '')]=[safe_replace((i[0]+'/a'),temporary_replacements_list_3).replace(\"</rt></ruby>\",\"%%%\").replace('/', '').replace(\"%%%\",\"</rt></ruby>\"), i[1]+10000]\n",
    "    pre_replacements_dict_3[(i[0]+'/e').replace('/', '')]=[safe_replace((i[0]+'/e'),temporary_replacements_list_3).replace(\"</rt></ruby>\",\"%%%\").replace('/', '').replace(\"%%%\",\"</rt></ruby>\"), i[1]+10000]\n",
    "    pre_replacements_dict_3[(i[0]+'/o').replace('/', '')]=[safe_replace((i[0]+'/o'),temporary_replacements_list_3).replace(\"</rt></ruby>\",\"%%%\").replace('/', '').replace(\"%%%\",\"</rt></ruby>\"), i[1]+10000]\n",
    "\n",
    "##/o,/aの追加\n",
    "y1=[['sole',33000],['pian',38000],[\"taksus\",53000],[\"legat\",43000],[\"lekant\",53000],[\"endos\",43000],[\"endos\",43000],\n",
    "    ['kantat',53000],['ordinat',63000],[\"akirant\",63000],[\"lama\",33000],[\"kaze\",33000],[\"alte\",33000],[\"traktat\",63000],\n",
    "    ['spirant',63000],['satirus',63000],[\"remont\",53000],[\"man/kis\",33000],[\"kolorad\",63000],[\"regulus\",63000],[\"male\",33000],\n",
    "    ['pere',33000]]##[\"pi/a/n\",38000] anをa/n/で分けるのは正しくはないが。  havaj\n",
    "for i in y1:\n",
    "    pre_replacements_dict_3[(i[0]+'/a').replace('/', '')]=[safe_replace((i[0]+'/a'),temporary_replacements_list_3).replace(\"</rt></ruby>\",\"%%%\").replace('/', '').replace(\"%%%\",\"</rt></ruby>\"), i[1]+10000]\n",
    "    pre_replacements_dict_3[(i[0]+'/o').replace('/', '')]=[safe_replace((i[0]+'/o'),temporary_replacements_list_3).replace(\"</rt></ruby>\",\"%%%\").replace('/', '').replace(\"%%%\",\"</rt></ruby>\"), i[1]+10000]\n",
    "\n",
    "##漢字変換してほしくないやつ\n",
    "y2=[['lian',43000]]\n",
    "for j in y2:\n",
    "    pre_replacements_dict_3[j[0].replace('/', '')]=[output_format(j[0],j[0], format_type), j[1]]\n",
    "##以下は完全手作業\n",
    "pre_replacements_dict_3['dat/um/i'.replace('/', '')]=[safe_replace('dat/um/i',temporary_replacements_list_3).replace(\"</rt></ruby>\",\"%%%\").replace('/', '').replace(\"%%%\",\"</rt></ruby>\"),  len('dat/um/i'.replace('/', ''))*10000+3000]\n",
    "pre_replacements_dict_3['dat/um/u'.replace('/', '')]=[safe_replace('dat/um/u',temporary_replacements_list_3).replace(\"</rt></ruby>\",\"%%%\").replace('/', '').replace(\"%%%\",\"</rt></ruby>\"),  len('dat/um/u'.replace('/', ''))*10000+3000]\n",
    "#dat/um/u  dat/um/u!\n",
    "pre_replacements_dict_3['tra/met/i'.replace('/', '')]=[safe_replace('tra/met/i',temporary_replacements_list_3).replace(\"</rt></ruby>\",\"%%%\").replace('/', '').replace(\"%%%\",\"</rt></ruby>\"),  len('tra/met/i'.replace('/', ''))*10000+3000]\n",
    "pre_replacements_dict_3['tra/met/u'.replace('/', '')]=[safe_replace('tra/met/u',temporary_replacements_list_3).replace(\"</rt></ruby>\",\"%%%\").replace('/', '').replace(\"%%%\",\"</rt></ruby>\"),  len('tra/met/u'.replace('/', ''))*10000+3000]\n",
    "\n",
    "# pre_replacements_dict_3['trametu!']=['<ruby>通<rt>tra</rt></ruby><ruby>置<rt>met</rt></ruby>u!',len('trametu!')*10000+2500]\n",
    "#tra/met/u  tra/met/u!"
   ]
  },
  {
   "cell_type": "code",
   "execution_count": 22,
   "id": "8db005e0",
   "metadata": {},
   "outputs": [],
   "source": [
    "###後から追加\n",
    "# pre_replacements_dict_3['tiu']=['<ruby>tiu<rt class=\"ruby-M_M_M\">これ</rt></ruby>',(len('tiu')-1)*10000+2500]\n"
   ]
  },
  {
   "cell_type": "code",
   "execution_count": 23,
   "id": "a5329bcc",
   "metadata": {},
   "outputs": [
    {
     "name": "stdout",
     "output_type": "stream",
     "text": [
      "['<ruby>dekan<rt class=\"ruby-L_L_L\">学部長</rt></ruby>o', 53000] ['<ruby>satan<rt class=\"ruby-M_M_M\">[宗]サタン</rt></ruby>o', 53000] ['<ruby>satan<rt class=\"ruby-M_M_M\">[宗]サタン</rt></ruby>a', 53000] ['<ruby>etn<rt class=\"ruby-L_L_L\">民族</rt></ruby>an', 43000] ['<ruby>sat<rt class=\"ruby-M_M_M\">満腹した</rt></ruby>an', 43000]\n",
      "['<ruby>etn<rt class=\"ruby-L_L_L\">民族</rt></ruby><ruby>an<rt class=\"ruby-M_M_M\">会員</rt></ruby>o', 53000] ['<ruby>dom<rt class=\"ruby-X_X_X\">家</rt></ruby>en', 43000] ['<ruby>ter<rt class=\"ruby-L_L_L\">土地</rt></ruby>en', 50000] ['<ruby>domen<rt class=\"ruby-L_L_L\">ドミノ</rt></ruby>e', 53000] ['<ruby>teren<rt class=\"ruby-X_X_X\">地所</rt></ruby>e', 53000]\n",
      "['<ruby>post<rt class=\"ruby-M_M_M\">(~の)後で</rt></ruby>en', 53000] ['<ruby>posten<rt class=\"ruby-X_X_X\">部署</rt></ruby>i', 67000] ['<ruby>posten<rt class=\"ruby-X_X_X\">部署</rt></ruby>e', 63000] ['<ruby>posten<rt class=\"ruby-X_X_X\">部署</rt></ruby><ruby>as<rt class=\"ruby-S_S_S\">現在形</rt></ruby>', 77000] ['<ruby>posten<rt class=\"ruby-X_X_X\">部署</rt></ruby><ruby>os<rt class=\"ruby-S_S_S\">未来形</rt></ruby>', 77000]\n",
      "['<ruby>sens<rt class=\"ruby-M_M_M\">[生]感覚</rt></ruby>on', 53000] ['<ruby>sen<rt class=\"ruby-S_S_S\">(~)なしで</rt></ruby><ruby>son<rt class=\"ruby-M_M_M\">音がする</rt></ruby>e', 63000] ['<ruby>sen<rt class=\"ruby-S_S_S\">(~)なしで</rt></ruby><ruby>son<rt class=\"ruby-M_M_M\">音がする</rt></ruby>a', 63000] ['<ruby>posten<rt class=\"ruby-X_X_X\">部署</rt></ruby><ruby>as<rt class=\"ruby-S_S_S\">現在形</rt></ruby>', 77000] ['<ruby>posten<rt class=\"ruby-X_X_X\">部署</rt></ruby><ruby>os<rt class=\"ruby-S_S_S\">未来形</rt></ruby>', 77000]\n",
      "['parano', 53000] ['parana', 53000] ['<ruby>sat<rt class=\"ruby-M_M_M\">満腹した</rt></ruby>an', 43000] ['<ruby>ordon<rt class=\"ruby-M_M_M\">(を)命令する</rt></ruby>i', 57000]\n",
      "['<ruby>mond<rt class=\"ruby-X_X_X\">世界</rt></ruby>on', 53000] ['<ruby>pension<rt class=\"ruby-X_X_X\">下宿屋</rt></ruby>e', 73000] ['<ruby>sent<rt class=\"ruby-M_M_M\">(を)感じる</rt></ruby>on', 53000] ['<ruby>ord<rt class=\"ruby-L_L_L\">順序</rt></ruby>on', 43000]\n",
      "['<ruby>drak<rt class=\"ruby-X_X_X\">竜</rt></ruby>on', 53000] ['drakono', 63000] ['<ruby>elektr<rt class=\"ruby-X_X_X\">電気</rt></ruby>on ', 83000] ['<ruby>peron<rt class=\"ruby-X_X_X\">階段</rt></ruby>o', 53000]\n",
      "['<ruby>fot<rt class=\"ruby-S_S_S\">写真を撮る</rt></ruby>on', 43000] ['<ruby>kart<rt class=\"ruby-L_L_L\">カード</rt></ruby>on', 53000] ['platone', 63000] ['<ruby>citr<rt class=\"ruby-M_M_M\">[楽]チター</rt></ruby>on ', 63000]\n",
      "['<ruby>milion<rt class=\"ruby-X_X_X\">百万</rt></ruby>', 53000] ['<ruby>mil<rt class=\"ruby-X_X_X\">千</rt></ruby><ruby>on<rt class=\"ruby-M_M_M\">分数</rt></ruby>', 43000] ['<ruby>cent<rt class=\"ruby-X_X_X\">百</rt></ruby><ruby>on<rt class=\"ruby-M_M_M\">分数</rt></ruby>', 53000] ['<ruby>burgxon<rt class=\"ruby-X_X_X\">芽</rt></ruby>', 63000]\n",
      "['<ruby>bombon<rt class=\"ruby-L_L_L\">キャンデー</rt></ruby>e', 63000] ['<ruby>ald<rt class=\"ruby-M_M_M\">アルト</rt></ruby>on ', 53000] ['<ruby>al<rt class=\"ruby-S_S_S\">~の方へ</rt></ruby><ruby>don<rt class=\"ruby-M_M_M\">与える</rt></ruby>i', 57000] ['<ruby>cikl<rt class=\"ruby-X_X_X\">周期</rt></ruby>on', 53000]\n",
      "['<ruby>ciklon<rt class=\"ruby-X_X_X\">低気圧</rt></ruby>e', 63000] ['<ruby>karb<rt class=\"ruby-X_X_X\">炭</rt></ruby>on', 53000] ['<ruby>karbon<rt class=\"ruby-L_L_L\">[化]炭素</rt></ruby>e', 63000] ['<ruby>patr<rt class=\"ruby-X_X_X\">父</rt></ruby>on', 53000]\n"
     ]
    }
   ],
   "source": [
    "print(pre_replacements_dict_3[\"dekano\"],pre_replacements_dict_3[\"satano\"],pre_replacements_dict_3[\"satana\"],pre_replacements_dict_3[\"etnan\"],pre_replacements_dict_3[\"satan\"])\n",
    "print(pre_replacements_dict_3[\"etnano\"],pre_replacements_dict_3[\"domen\"],pre_replacements_dict_3[\"teren\"],pre_replacements_dict_3[\"domene\"],pre_replacements_dict_3[\"terene\"])\n",
    "print(pre_replacements_dict_3[\"posten\"],pre_replacements_dict_3[\"posteni\"],pre_replacements_dict_3[\"postene\"],pre_replacements_dict_3[\"postenas\"],pre_replacements_dict_3[\"postenos\"])\n",
    "print(pre_replacements_dict_3[\"senson\"],pre_replacements_dict_3[\"sensone\"],pre_replacements_dict_3[\"sensona\"],pre_replacements_dict_3[\"postenas\"],pre_replacements_dict_3[\"postenos\"])\n",
    "print(pre_replacements_dict_3[\"parano\"],pre_replacements_dict_3[\"parana\"],pre_replacements_dict_3[\"satan\"],pre_replacements_dict_3[\"ordoni\"])##,pre_replacements_dict_3[\"montane\"]\n",
    "print(pre_replacements_dict_3[\"mondon\"],pre_replacements_dict_3[\"pensione\"],pre_replacements_dict_3[\"senton\"],pre_replacements_dict_3[\"ordon\"])##,pre_replacements_dict_3[\"montane\"]\n",
    "print(pre_replacements_dict_3[\"drakon\"],pre_replacements_dict_3[\"drakono\"],pre_replacements_dict_3[\"elektron \"],pre_replacements_dict_3[\"perono\"])\n",
    "print(pre_replacements_dict_3[\"foton\"],pre_replacements_dict_3[\"karton\"],pre_replacements_dict_3[\"platone\"],pre_replacements_dict_3[\"citron \"])\n",
    "print(pre_replacements_dict_3[\"milion\"],pre_replacements_dict_3[\"milon\"],pre_replacements_dict_3[\"centon\"],pre_replacements_dict_3[\"burgxon\"])\n",
    "print(pre_replacements_dict_3[\"bombone\"],pre_replacements_dict_3[\"aldon \"],pre_replacements_dict_3[\"aldoni\"],pre_replacements_dict_3[\"ciklon\"])\n",
    "print(pre_replacements_dict_3[\"ciklone\"],pre_replacements_dict_3[\"karbon\"],pre_replacements_dict_3[\"karbone\"],pre_replacements_dict_3[\"patron\"])"
   ]
  },
  {
   "cell_type": "code",
   "execution_count": 24,
   "id": "2b4b2752",
   "metadata": {},
   "outputs": [
    {
     "name": "stdout",
     "output_type": "stream",
     "text": [
      "['<ruby>gvid<rt class=\"ruby-S_S_S\">(を)案内する</rt></ruby><ruby>ant<rt class=\"ruby-L_L_L\">能動</rt></ruby>o', 73000] ['<ruby>am<rt class=\"ruby-S_S_S\">愛する</rt></ruby><ruby>as<rt class=\"ruby-S_S_S\">現在形</rt></ruby>', 33000] ['<ruby>kor<rt class=\"ruby-X_X_X\">心</rt></ruby>an', 43000] ['<ruby>lian<rt class=\"ruby-X_X_X\">lian</rt></ruby>', 43000]\n",
      "['<ruby>ink<rt class=\"ruby-M_M_M\">インク</rt></ruby>a', 33000] ['<ruby>post<rt class=\"ruby-M_M_M\">(~の)後で</rt></ruby>en', 53000] ['<ruby>per<rt class=\"ruby-M_M_M\">よって</rt></ruby>e', 33000] ['<ruby>fer<rt class=\"ruby-X_X_X\">鉄</rt></ruby>o', 33000]\n",
      "['<ruby>koran<rt class=\"ruby-M_M_M\">[宗]コーラン</rt></ruby>o', 53000] ['<ruby>kor<rt class=\"ruby-X_X_X\">心</rt></ruby>e', 33000] ['<ruby>mal<rt class=\"ruby-M_M_M\">正反対</rt></ruby>aj', 43000] ['<ruby>mal<rt class=\"ruby-M_M_M\">正反対</rt></ruby>e', 33000] ['<ruby>par<rt class=\"ruby-L_L_L\">一対</rt></ruby>an', 43000] ['<ruby>sam<rt class=\"ruby-M_M_M\">同一の</rt></ruby>o', 33000]\n",
      "['<ruby>sat<rt class=\"ruby-M_M_M\">満腹した</rt></ruby>an', 43000] ['<ruby>sav<rt class=\"ruby-M_M_M\">救助する</rt></ruby>oj', 43000] ['<ruby>sud<rt class=\"ruby-X_X_X\">南</rt></ruby>an', 43000] ['<ruby>mank<rt class=\"ruby-M_M_M\">欠けている</rt></ruby><ruby>is<rt class=\"ruby-S_S_S\">過去形</rt></ruby>', 53000] ['<ruby>ir<rt class=\"ruby-M_M_M\">行く</rt></ruby><ruby>is<rt class=\"ruby-S_S_S\">過去形</rt></ruby>', 33000] ['<ruby>regul<rt class=\"ruby-X_X_X\">規則</rt></ruby><ruby>us<rt class=\"ruby-S_S_S\">条件法</rt></ruby>', 63000]\n",
      "['<ruby>akir<rt class=\"ruby-S_S_S\">(を)獲得する</rt></ruby><ruby>ant<rt class=\"ruby-L_L_L\">能動</rt></ruby>', 63000] ['<ruby>sen<rt class=\"ruby-S_S_S\">(~)なしで</rt></ruby><ruby>dat<rt class=\"ruby-L_L_L\">日付</rt></ruby>e', 63000] ['<ruby>man<rt class=\"ruby-X_X_X\">手</rt></ruby><ruby>kis<rt class=\"ruby-M_M_M\">キスする</rt></ruby>a', 43000] ['<ruby>kolor<rt class=\"ruby-X_X_X\">色</rt></ruby><ruby>ad<rt class=\"ruby-S_S_S\">継続行為</rt></ruby>', 63000] ['<ruby>ir<rt class=\"ruby-M_M_M\">行く</rt></ruby><ruby>is<rt class=\"ruby-S_S_S\">過去形</rt></ruby>', 33000] ['reguluso', 73000]\n",
      "['<ruby>sen<rt class=\"ruby-S_S_S\">(~)なしで</rt></ruby><ruby>dot<rt class=\"ruby-M_M_M\">持参金</rt></ruby>a', 63000] ['<ruby>prem<rt class=\"ruby-M_M_M\">(を)押える</rt></ruby><ruby>is<rt class=\"ruby-S_S_S\">過去形</rt></ruby>', 53000] ['<ruby>mark<rt class=\"ruby-L_L_L\">しるし</rt></ruby><ruby>ot<rt class=\"ruby-S_S_S\">受動将然</rt></ruby>', 53000] ['kolorado', 73000] ['<ruby>lot<rt class=\"ruby-L_L_L\">くじ</rt></ruby><ruby>us<rt class=\"ruby-S_S_S\">条件法</rt></ruby>', 43000] ['<ruby>mank<rt class=\"ruby-M_M_M\">欠けている</rt></ruby><ruby>is<rt class=\"ruby-S_S_S\">過去形</rt></ruby>', 53000]\n",
      "['<ruby>send<rt class=\"ruby-M_M_M\">(を)送る</rt></ruby><ruby>ot<rt class=\"ruby-S_S_S\">受動将然</rt></ruby>', 53000] ['<ruby>rem<rt class=\"ruby-L_L_L\">漕ぐ</rt></ruby><ruby>ont<rt class=\"ruby-L_L_L\">能動</rt></ruby>', 53000] ['<ruby>satir<rt class=\"ruby-L_L_L\">諷刺(詩</rt></ruby><ruby>us<rt class=\"ruby-S_S_S\">条件法</rt></ruby>', 63000] ['<ruby>send<rt class=\"ruby-M_M_M\">(を)送る</rt></ruby><ruby>at<rt class=\"ruby-S_S_S\">受動継続</rt></ruby>', 53000] ['<ruby>send<rt class=\"ruby-M_M_M\">(を)送る</rt></ruby><ruby>ot<rt class=\"ruby-S_S_S\">受動将然</rt></ruby>', 53000] ['<ruby>spir<rt class=\"ruby-M_M_M\">呼吸する</rt></ruby><ruby>ant<rt class=\"ruby-L_L_L\">能動</rt></ruby>', 63000]\n",
      "['<ruby>ten<rt class=\"ruby-M_M_M\">支え持つ</rt></ruby><ruby>is<rt class=\"ruby-S_S_S\">過去形</rt></ruby>', 43000] ['<ruby>trakt<rt class=\"ruby-M_M_M\">(を)取り扱う</rt></ruby><ruby>at<rt class=\"ruby-S_S_S\">受動継続</rt></ruby>', 63000] ['<ruby>alt<rt class=\"ruby-L_L_L\">高い</rt></ruby>e', 33000] ['<ruby>apog<rt class=\"ruby-M_M_M\">(を)支える</rt></ruby>e', 43000] ['<ruby>dom<rt class=\"ruby-X_X_X\">家</rt></ruby>en', 43000] ['<ruby>kaz<rt class=\"ruby-M_M_M\">[文]格</rt></ruby>e ', 43000]\n",
      "['<ruby>konus<rt class=\"ruby-L_L_L\">[数]円錐</rt></ruby>', 50000] ['<ruby>post<rt class=\"ruby-M_M_M\">(~の)後で</rt></ruby>en', 53000] ['<ruby>posten<rt class=\"ruby-X_X_X\">部署</rt></ruby><ruby>ul<rt class=\"ruby-X_X_X\">人</rt></ruby>', 73000] ['<ruby>kalk<rt class=\"ruby-M_M_M\">[化]石灰</rt></ruby>an', 53000] ['<ruby>faz<rt class=\"ruby-M_M_M\">[理]位相</rt></ruby>an', 43000] ['<ruby>hav<rt class=\"ruby-S_S_S\">持っている</rt></ruby>aj', 43000] ['havajo', 52000]\n",
      "['<ruby>pi<rt class=\"ruby-S_S_S\">信心深い</rt></ruby>an', 38000] ['<ruby>lam<rt class=\"ruby-M_M_M\">びっこの</rt></ruby>a', 33000] ['<ruby>mal<rt class=\"ruby-M_M_M\">正反対</rt></ruby>aj', 43000] ['<ruby>nord<rt class=\"ruby-X_X_X\">北</rt></ruby><ruby>an<rt class=\"ruby-M_M_M\">会員</rt></ruby>e', 63000] ['<ruby>ref<rt class=\"ruby-M_M_M\">リーフ</rt></ruby>oj', 43000] ['<ruby>re<rt class=\"ruby-M_M_M\">再び</rt></ruby><ruby>foj<rt class=\"ruby-X_X_X\">回</rt></ruby>e', 53000]\n",
      "[' <ruby>pi<rt class=\"ruby-S_S_S\">信心深い</rt></ruby>an', 45000] ['<ruby>akir<rt class=\"ruby-S_S_S\">(を)獲得する</rt></ruby><ruby>ant<rt class=\"ruby-L_L_L\">能動</rt></ruby>', 63000] ['<ruby>form<rt class=\"ruby-X_X_X\">形</rt></ruby><ruby>at<rt class=\"ruby-S_S_S\">受動継続</rt></ruby>', 53000] ['<ruby>sole<rt class=\"ruby-M_M_M\">シタビラメ</rt></ruby>a', 43000] ['<ruby>sol<rt class=\"ruby-M_M_M\">唯一の</rt></ruby>e', 33000]\n",
      "['<ruby>kon<rt class=\"ruby-S_S_S\">知っている</rt></ruby><ruby>us<rt class=\"ruby-S_S_S\">条件法</rt></ruby> ', 53000] ['<ruby>lek<rt class=\"ruby-M_M_M\">なめる</rt></ruby><ruby>ant<rt class=\"ruby-L_L_L\">能動</rt></ruby>', 53000] ['<ruby>leg<rt class=\"ruby-M_M_M\">(を)読む</rt></ruby><ruby>at<rt class=\"ruby-S_S_S\">受動継続</rt></ruby>', 43000] ['<ruby>taks<rt class=\"ruby-S_S_S\">(を)評価する</rt></ruby><ruby>us<rt class=\"ruby-S_S_S\">条件法</rt></ruby>', 53000] ['reguluso', 73000] ['<ruby>end<rt class=\"ruby-L_L_L\">必要</rt></ruby><ruby>os<rt class=\"ruby-S_S_S\">未来形</rt></ruby>', 43000]\n",
      "['regulusa', 73000] ['akiranto', 73000] ['kolorado', 73000] ['satiruso', 73000] ['spiranto', 73000] ['<ruby>traktat<rt class=\"ruby-X_X_X\">[政]条約</rt></ruby>o', 73000] ['<ruby>nord<rt class=\"ruby-X_X_X\">北</rt></ruby><ruby>an<rt class=\"ruby-M_M_M\">会員</rt></ruby>o', 63000] ['akiranta', 73000] ['ordinata', 73000]\n"
     ]
    }
   ],
   "source": [
    "print(pre_replacements_dict_3[\"gvidanto\"],pre_replacements_dict_3[\"amas\"],pre_replacements_dict_3[\"koran\"],pre_replacements_dict_3[\"lian\"])\n",
    "print(pre_replacements_dict_3[\"inka\"],pre_replacements_dict_3[\"posten\"],pre_replacements_dict_3[\"pere\"],pre_replacements_dict_3[\"fero\"])\n",
    "print(pre_replacements_dict_3[\"korano\"],pre_replacements_dict_3[\"kore\"],pre_replacements_dict_3[\"malaj\"],pre_replacements_dict_3[\"male\"],pre_replacements_dict_3[\"paran\"],pre_replacements_dict_3[\"samo\"])\n",
    "print(pre_replacements_dict_3[\"satan\"],pre_replacements_dict_3[\"savoj\"],pre_replacements_dict_3[\"sudan\"],pre_replacements_dict_3[\"mankis\"],pre_replacements_dict_3[\"iris\"],pre_replacements_dict_3[\"regulus\"])\n",
    "print(pre_replacements_dict_3[\"akirant\"],pre_replacements_dict_3[\"sendate\"],pre_replacements_dict_3[\"mankisa\"],pre_replacements_dict_3[\"kolorad\"],pre_replacements_dict_3[\"iris\"],pre_replacements_dict_3[\"reguluso\"])\n",
    "print(pre_replacements_dict_3[\"sendota\"],pre_replacements_dict_3[\"premis\"],pre_replacements_dict_3[\"markot\"],pre_replacements_dict_3[\"kolorado\"],pre_replacements_dict_3[\"lotus\"],pre_replacements_dict_3[\"mankis\"])\n",
    "print(pre_replacements_dict_3[\"sendot\"],pre_replacements_dict_3[\"remont\"],pre_replacements_dict_3[\"satirus\"],pre_replacements_dict_3[\"sendat\"],pre_replacements_dict_3[\"sendot\"],pre_replacements_dict_3[\"spirant\"])\n",
    "print(pre_replacements_dict_3[\"tenis\"],pre_replacements_dict_3[\"traktat\"],pre_replacements_dict_3[\"alte\"],pre_replacements_dict_3[\"apoge\"],pre_replacements_dict_3[\"domen\"],pre_replacements_dict_3[\"kaze \"])\n",
    "print(pre_replacements_dict_3[\"konus\"],pre_replacements_dict_3[\"posten\"],pre_replacements_dict_3[\"postenul\"],pre_replacements_dict_3[\"kalkan\"],pre_replacements_dict_3[\"fazan\"],pre_replacements_dict_3[\"havaj\"],pre_replacements_dict_3[\"havajo\"])\n",
    "print(pre_replacements_dict_3[\"pian\"],pre_replacements_dict_3[\"lama\"],pre_replacements_dict_3[\"malaj\"],pre_replacements_dict_3[\"nordane\"],pre_replacements_dict_3[\"refoj\"],pre_replacements_dict_3[\"refoje\"])\n",
    "print(pre_replacements_dict_3[\" pian\"],pre_replacements_dict_3[\"akirant\"],pre_replacements_dict_3[\"format\"],pre_replacements_dict_3[\"solea\"],pre_replacements_dict_3[\"sole\"])\n",
    "print(pre_replacements_dict_3[\"konus \"],pre_replacements_dict_3[\"lekant\"],pre_replacements_dict_3[\"legat\"],pre_replacements_dict_3[\"taksus\"],pre_replacements_dict_3[\"reguluso\"],pre_replacements_dict_3[\"endos\"])\n",
    "\n",
    "print(pre_replacements_dict_3[\"regulusa\"],pre_replacements_dict_3[\"akiranto\"],pre_replacements_dict_3[\"kolorado\"],pre_replacements_dict_3[\"satiruso\"],pre_replacements_dict_3[\"spiranto\"]\n",
    "      ,pre_replacements_dict_3[\"traktato\"],pre_replacements_dict_3[\"nordano\"],pre_replacements_dict_3[\"akiranta\"],pre_replacements_dict_3[\"ordinata\"])\n",
    "# zzzz=[['regul/us',63000],['akir/ant',63000],[\"kolor/ad\",63000],[\"satir/us\",63000]\n",
    "#     ,[\"spir/ant\",63000],[\"trakt/at\",63000],[\"nord/a/n \",63000],[\"akir/ant\",63000],[\"ordin/at\",63000]]"
   ]
  },
  {
   "cell_type": "code",
   "execution_count": 25,
   "id": "2d20d050",
   "metadata": {},
   "outputs": [
    {
     "name": "stdout",
     "output_type": "stream",
     "text": [
      "['sudano', 53000] ['<ruby>sud<rt class=\"ruby-X_X_X\">南</rt></ruby>an', 43000] ['<ruby>mari<rt class=\"ruby-L_L_L\">マリア</rt></ruby>an', 53000] ['<ruby>roman<rt class=\"ruby-L_L_L\">長編小説</rt></ruby>', 50000]\n",
      "['<ruby>roman<rt class=\"ruby-L_L_L\">長編小説</rt></ruby>o', 57000] ['<ruby>par<rt class=\"ruby-L_L_L\">一対</rt></ruby>an', 43000] ['parano', 53000] ['parane', 53000]\n",
      "['<ruby>koran<rt class=\"ruby-M_M_M\">[宗]コーラン</rt></ruby>o', 53000] ['<ruby>kor<rt class=\"ruby-X_X_X\">心</rt></ruby>e', 33000] ['<ruby>kor<rt class=\"ruby-X_X_X\">心</rt></ruby>an', 43000] ['<ruby>mal<rt class=\"ruby-M_M_M\">正反対</rt></ruby>e', 33000] ['<ruby>par<rt class=\"ruby-L_L_L\">一対</rt></ruby>an', 43000] ['<ruby>sam<rt class=\"ruby-M_M_M\">同一の</rt></ruby>o', 33000]\n",
      "['<ruby>sat<rt class=\"ruby-M_M_M\">満腹した</rt></ruby>an', 43000] ['<ruby>sav<rt class=\"ruby-M_M_M\">救助する</rt></ruby>oj', 43000] ['<ruby>sud<rt class=\"ruby-X_X_X\">南</rt></ruby>an', 43000] ['<ruby>ok<rt class=\"ruby-X_X_X\">八</rt></ruby><ruby>on<rt class=\"ruby-M_M_M\">分数</rt></ruby>', 38000] ['<ruby>apoge<rt class=\"ruby-M_M_M\">[天]遠地点</rt></ruby>o', 53000] ['<ruby>naci<rt class=\"ruby-X_X_X\">国民</rt></ruby>an', 53000]\n"
     ]
    }
   ],
   "source": [
    "print(pre_replacements_dict_3[\"sudano\"],pre_replacements_dict_3[\"sudan\"],pre_replacements_dict_3[\"marian\"],pre_replacements_dict_3[\"roman\"])\n",
    "print(pre_replacements_dict_3[\"romano\"],pre_replacements_dict_3[\"paran\"],pre_replacements_dict_3[\"parano\"],pre_replacements_dict_3[\"parane\"])\n",
    "print(pre_replacements_dict_3[\"korano\"],pre_replacements_dict_3[\"kore\"],pre_replacements_dict_3[\"koran\"],pre_replacements_dict_3[\"male\"],pre_replacements_dict_3[\"paran\"],pre_replacements_dict_3[\"samo\"])\n",
    "print(pre_replacements_dict_3[\"satan\"],pre_replacements_dict_3[\"savoj\"],pre_replacements_dict_3[\"sudan\"],pre_replacements_dict_3[\"okon\"],pre_replacements_dict_3[\"apogeo\"],pre_replacements_dict_3[\"nacian\"])"
   ]
  },
  {
   "cell_type": "code",
   "execution_count": 26,
   "id": "9fff68d1",
   "metadata": {},
   "outputs": [],
   "source": [
    "with open(\"置換用の辞書型配列(pre_replacements_dict_3).json\", \"w\", encoding=\"utf-8\") as g:\n",
    "    json.dump(pre_replacements_dict_3, g, ensure_ascii=False, indent=2)  # ensure_ascii=FalseでUnicodeをそのまま出力\n",
    "# with open(\"置換用の辞書型配列(pre_replacements_dict_3).json\", \"r\", encoding=\"utf-8\") as g:\n",
    "#     pre_replacements_dict_3 = json.load(g)"
   ]
  },
  {
   "cell_type": "code",
   "execution_count": 27,
   "id": "08c5cf97",
   "metadata": {},
   "outputs": [
    {
     "name": "stdout",
     "output_type": "stream",
     "text": [
      "<ruby>amas<rt class=\"ruby-X_X_X\">集積</rt></ruby> <ruby>min<rt class=\"ruby-L_L_L\">鉱山</rt></ruby> <ruby>mond<rt class=\"ruby-X_X_X\">世界</rt></ruby>o/n <ruby>gvid<rt class=\"ruby-S_S_S\">(を)案内する</rt></ruby>/<ruby>ant<rt class=\"ruby-L_L_L\">能動</rt></ruby>/o\n",
      "['<ruby>am<rt class=\"ruby-S_S_S\">愛する</rt></ruby><ruby>as<rt class=\"ruby-S_S_S\">現在形</rt></ruby>', 33000] ['min', 33000] ['<ruby>mond<rt class=\"ruby-X_X_X\">世界</rt></ruby>on', 53000] ['<ruby>gvid<rt class=\"ruby-S_S_S\">(を)案内する</rt></ruby><ruby>ant<rt class=\"ruby-L_L_L\">能動</rt></ruby>o', 73000] ['<ruby>ir<rt class=\"ruby-M_M_M\">行く</rt></ruby><ruby>is<rt class=\"ruby-S_S_S\">過去形</rt></ruby>', 33000] ['<ruby>regul<rt class=\"ruby-X_X_X\">規則</rt></ruby><ruby>us<rt class=\"ruby-S_S_S\">条件法</rt></ruby>', 63000]\n"
     ]
    }
   ],
   "source": [
    "##リストreplacementはコードの前半と後半で別物になるので注意が必要。\n",
    "print(safe_replace(\"amas\",temporary_replacements_list_3),safe_replace(\"min\",temporary_replacements_list_3),safe_replace(\"mondo/n\",temporary_replacements_list_3),safe_replace('gvid/ant/o',temporary_replacements_list_3))\n",
    "print(pre_replacements_dict_3[\"amas\"],pre_replacements_dict_3[\"min\"],pre_replacements_dict_3[\"mondon\"],pre_replacements_dict_3[\"gvidanto\"],pre_replacements_dict_3[\"iris\"],pre_replacements_dict_3[\"regulus\"])"
   ]
  },
  {
   "cell_type": "code",
   "execution_count": 28,
   "id": "4011280b",
   "metadata": {},
   "outputs": [],
   "source": [
    "\n",
    "pre_replacements_list_1=[]\n",
    "for old,new in  pre_replacements_dict_3.items():\n",
    "    if isinstance(new[1], int):\n",
    "        pre_replacements_list_1.append((old,new[0],new[1]))"
   ]
  },
  {
   "cell_type": "code",
   "execution_count": 29,
   "id": "053fc408",
   "metadata": {},
   "outputs": [],
   "source": [
    "pre_replacements_list_2= sorted(pre_replacements_list_1, key=lambda x: x[2], reverse=True)##(置換順序の数字の大きさ順にソート!)"
   ]
  },
  {
   "cell_type": "code",
   "execution_count": 30,
   "id": "f3ec2f95",
   "metadata": {},
   "outputs": [],
   "source": [
    "with open(\"置換用の辞書型配列(pre_replacements_list_2).json\", \"w\", encoding=\"utf-8\") as g:\n",
    "    json.dump(pre_replacements_list_2, g, ensure_ascii=False, indent=2)  # ensure_ascii=FalseでUnicodeをそのまま出力\n",
    "# with open(\"置換用の辞書型配列(pre_replacements_list_2).json\", \"r\", encoding=\"utf-8\") as g:\n",
    "#     pre_replacements_list_2 = json.load(g)"
   ]
  },
  {
   "cell_type": "code",
   "execution_count": 31,
   "id": "adcb681c",
   "metadata": {},
   "outputs": [],
   "source": [
    "##'エスペラント語根'、'置換漢字'、placeholderの順に並べ、最終的な置換に用いる\"replacements\"リストを作成。\n",
    "pre_replacements_list_3=[]\n",
    "for kk in range(len(pre_replacements_list_2)):\n",
    "    if len(pre_replacements_list_2[kk][0])>=3:##3文字以上でいいのではないか(202412)  la対策として考案された。\n",
    "        pre_replacements_list_3.append([pre_replacements_list_2[kk][0],pre_replacements_list_2[kk][1],imported_placeholders[kk]])"
   ]
  },
  {
   "cell_type": "code",
   "execution_count": 32,
   "id": "8511730a",
   "metadata": {},
   "outputs": [
    {
     "data": {
      "text/plain": [
       "93532"
      ]
     },
     "execution_count": 32,
     "metadata": {},
     "output_type": "execute_result"
    }
   ],
   "source": [
    "len(pre_replacements_list_3)"
   ]
  },
  {
   "cell_type": "code",
   "execution_count": 33,
   "id": "e749f55b",
   "metadata": {},
   "outputs": [
    {
     "data": {
      "text/plain": [
       "280596"
      ]
     },
     "execution_count": 33,
     "metadata": {},
     "output_type": "execute_result"
    }
   ],
   "source": [
    "##'エスペラント語根'、'置換漢字'、placeholderの順に並べ、最終的な置換に用いる\"replacements\"リストを作成。\n",
    "\n",
    "# エスペラント文の文字列置換に用いるに必要な置換用テキストは、大文字、小文字、頭文字だけ大文字、の3種類に対応させるように作るが、その際、htmlタグまでその影響を受けないようにしたい?\n",
    "def capitalize_rt_tag(match):\n",
    "    rt_start, rt_word, rt_end = match.groups()\n",
    "    return rt_start + rt_word.capitalize() + rt_end\n",
    "def capitalize_according_to_condition_htmlruby(new_text):\n",
    "    if new_text.startswith('<ruby>'):\n",
    "        # <で始まる場合、最初の<rt>タグ内の最初の文字を大文字にする\n",
    "        new_text = re.sub(r'(<ruby>)(.*?)(<rt)', capitalize_rt_tag, new_text, count=1)\n",
    "    else:\n",
    "        # <で始まらない場合、new_textの最初の文字を大文字にする\n",
    "        new_text = new_text[0].upper() + new_text[1:]\n",
    "    return new_text\n",
    "##'大文字'、'小文字'、'文頭だけ大文字'のケースに対応。\n",
    "pre_replacements_list_4=[]\n",
    "if format_type == 'HTML形式＿ルビサイズ調節' or 'HTML形式':\n",
    "    for old,new,place_holder in pre_replacements_list_3:\n",
    "        pre_replacements_list_4.append((old,new,place_holder))\n",
    "        pre_replacements_list_4.append((old.upper(),new.upper(),place_holder[:-1]+'up$'))##placeholderを少し変更する必要があった。\n",
    "        if old[0]==' ':\n",
    "            pre_replacements_list_4.append((old[0] + old[1].upper() + old[2:],new[0] + capitalize_according_to_condition_htmlruby(new[1:]),place_holder[:-1]+'cap$'))##new[0] + new[1].upper() + new[2:]は本当は怪しいが。。  \n",
    "        else:\n",
    "            pre_replacements_list_4.append((old.capitalize(),capitalize_according_to_condition_htmlruby(new),place_holder[:-1]+'cap$'))\n",
    "else:\n",
    "    for old,new,place_holder in pre_replacements_list_3:\n",
    "        pre_replacements_list_4.append((old,new,place_holder))\n",
    "        pre_replacements_list_4.append((old.upper(),new.upper(),place_holder[:-1]+'up$'))##placeholderを少し変更する必要があった。\n",
    "        if old[0]==' ':\n",
    "            pre_replacements_list_4.append((old[0] + old[1].upper() + old[2:],new[0] + new[1].upper() + new[2:],place_holder[:-1]+'cap$'))##new[0] + new[1].upper() + new[2:]は本当は怪しいが。。  \n",
    "        else:\n",
    "            pre_replacements_list_4.append((old.capitalize(),new.capitalize(),place_holder[:-1]+'cap$'))\n",
    "\n",
    "\n",
    "\n",
    "len(pre_replacements_list_4)"
   ]
  },
  {
   "cell_type": "code",
   "execution_count": 34,
   "id": "672cb24b",
   "metadata": {},
   "outputs": [],
   "source": [
    "replacements_final=[]\n",
    "for old, new, place_holder in pre_replacements_list_4:\n",
    "    # 新しい変数でスペースを追加した内容を保持\n",
    "    modified_placeholder = place_holder\n",
    "    if old.startswith(' '):\n",
    "        modified_placeholder = ' ' + modified_placeholder  # 語頭にスペースを追加\n",
    "        if not new.startswith(' '):\n",
    "            new = ' ' + new\n",
    "    if old.endswith(' '):\n",
    "        modified_placeholder = modified_placeholder + ' '  # 語末にスペースを追加\n",
    "        if not new.endswith(' '):\n",
    "            new = new + ' '\n",
    "    # 結果をリストに追加\n",
    "    replacements_final.append((old, new, modified_placeholder))"
   ]
  },
  {
   "cell_type": "code",
   "execution_count": 35,
   "id": "b74ca0e6",
   "metadata": {},
   "outputs": [],
   "source": [
    "#\"replacements_final\"リストの内容を確認\n",
    "\n",
    "with open(\"最終的な置換用のリスト(replacements_final).json\", \"w\", encoding=\"utf-8\") as g:\n",
    "    json.dump(replacements_final, g, ensure_ascii=False, indent=2)  # ensure_ascii=FalseでUnicodeをそのまま出力\n",
    "# with open(\"最終的な置換用のリスト(replacements_final).json\", \"r\", encoding=\"utf-8\") as g:\n",
    "#     replacements_final = json.load(g)"
   ]
  },
  {
   "cell_type": "code",
   "execution_count": 36,
   "id": "af099f81",
   "metadata": {},
   "outputs": [
    {
     "data": {
      "text/plain": [
       "280596"
      ]
     },
     "execution_count": 36,
     "metadata": {},
     "output_type": "execute_result"
    }
   ],
   "source": [
    "with open(\"最終的な置換用のリスト(replacements_final).json\", \"r\", encoding=\"utf-8\") as g:\n",
    "    replacements_final_2 = json.load(g)\n",
    "len(replacements_final_2)\n",
    "#replacements_finalとreplacements_final_2は全く同一のリストである。"
   ]
  },
  {
   "cell_type": "code",
   "execution_count": 37,
   "id": "82324670",
   "metadata": {},
   "outputs": [],
   "source": [
    "##置換に用いる関数。正規表現、C++など様々な形式の置換を試したが、pythonでplaceholderを用いる形式の置換が、最も処理が高速であった。(しかも大変シンプルでわかりやすい。)\n",
    "def safe_replace(text, replacements):\n",
    "    valid_replacements = {}\n",
    "    # 置換対象(old)をplaceholderに一時的に置換\n",
    "    for old, new, placeholder in replacements:\n",
    "        if old in text:\n",
    "            text = text.replace(old, placeholder)\n",
    "            valid_replacements[placeholder] = new# 後で置換後の文字列(new)に置換し直す必要があるplaceholderを辞書(valid_replacements)に記録しておく。\n",
    "    #placeholderを置換後の文字列(new)に置換)\n",
    "    for placeholder, new in valid_replacements.items():\n",
    "        text = text.replace(placeholder, new)\n",
    "    return text\n"
   ]
  },
  {
   "cell_type": "code",
   "execution_count": 38,
   "id": "f3697d07",
   "metadata": {},
   "outputs": [],
   "source": [
    "## multiprocessingのための関数群　テキストを行数によって設定プロセス数(num_processes)に等分割して、それぞれのプロセスで並列に置換処理を実行してから、再度分割したテキストを結合する。\n",
    "\n",
    "import multiprocessing\n",
    "def process_segment(lines, replacements):\n",
    "    # 文字列のリストを結合してから置換処理を実行 linesには\\nが含まれていない状態の文字列群が格納されている。\n",
    "    segment = '\\n'.join(lines)\n",
    "    segment = safe_replace(segment, replacements)#ここでsafe_replace関数の実行\n",
    "    return segment\n",
    "\n",
    "def parallel_process(text, num_processes,replacements):\n",
    "    #テキストを行で分割\n",
    "    lines = text.split('\\n')\n",
    "    num_lines = len(lines)\n",
    "    lines_per_process = num_lines // num_processes\n",
    "\n",
    "    #各プロセスに割り当てる行のリストを決定\n",
    "    ranges = [(i * lines_per_process, (i + 1) * lines_per_process) for i in range(num_processes)]\n",
    "    ranges[-1] = (ranges[-1][0], num_lines)  #最後のプロセスが残り全てを処理\n",
    "\n",
    "    with multiprocessing.Pool(processes=num_processes) as pool:\n",
    "        # 並列処理を実行\n",
    "        results = pool.starmap(process_segment, [(lines[start:end], replacements) for start, end in ranges])\n",
    "\n",
    "    # 結果を結合\n",
    "    return '\\n'.join(result for result in results)\n"
   ]
  },
  {
   "cell_type": "code",
   "execution_count": 39,
   "id": "482dfe71",
   "metadata": {},
   "outputs": [
    {
     "data": {
      "text/plain": [
       "' <ruby>amerik<rt class=\"ruby-M_M_M\">[地名]アメリカ</rt></ruby><ruby>an<rt class=\"ruby-M_M_M\">会員</rt></ruby>o <ruby>amerik<rt class=\"ruby-M_M_M\">[地名]アメリカ</rt></ruby>an <ruby>ref<rt class=\"ruby-M_M_M\">リーフ</rt></ruby>oj <ruby>re<rt class=\"ruby-M_M_M\">再び</rt></ruby><ruby>foj<rt class=\"ruby-X_X_X\">回</rt></ruby>e <ruby>pi<rt class=\"ruby-S_S_S\">信心深い</rt></ruby>an <ruby>pi<rt class=\"ruby-S_S_S\">信心深い</rt></ruby>an <ruby>pian<rt class=\"ruby-M_M_M\">[楽]ピアノ</rt></ruby>o <ruby>pian<rt class=\"ruby-M_M_M\">[楽]ピアノ</rt></ruby>a <ruby>ok<rt class=\"ruby-X_X_X\">八</rt></ruby><ruby>on<rt class=\"ruby-M_M_M\">分数</rt></ruby>  <ruby>ok<rt class=\"ruby-X_X_X\">八</rt></ruby><ruby>on<rt class=\"ruby-M_M_M\">分数</rt></ruby> <ruby>antaux<rt class=\"ruby-L_L_L\">(~の)前に</rt></ruby>en <ruby>re<rt class=\"ruby-M_M_M\">再び</rt></ruby>en  <ruby>alt<rt class=\"ruby-L_L_L\">高い</rt></ruby>en <ruby>trans<rt class=\"ruby-M_M_M\">(~の)向こうに</rt></ruby>en <ruby>teren<rt class=\"ruby-X_X_X\">地所</rt></ruby>o <ruby>kor<rt class=\"ruby-X_X_X\">心</rt></ruby>an <ruby>dank<rt class=\"ruby-S_S_S\">(に)感謝する</rt></ruby>on vin sin lin <ruby>lin<rt class=\"ruby-M_M_M\">[植]亜麻</rt></ruby>o <ruby>sin<rt class=\"ruby-X_X_X\">懐</rt></ruby>o <ruby>am<rt class=\"ruby-S_S_S\">愛する</rt></ruby><ruby>as<rt class=\"ruby-S_S_S\">現在形</rt></ruby> <ruby>amas<rt class=\"ruby-X_X_X\">集積</rt></ruby>o <ruby>hav<rt class=\"ruby-S_S_S\">持っている</rt></ruby><ruby>is<rt class=\"ruby-S_S_S\">過去形</rt></ruby> aviso  <ruby>alt<rt class=\"ruby-L_L_L\">高い</rt></ruby>aj altajo'"
      ]
     },
     "execution_count": 39,
     "metadata": {},
     "output_type": "execute_result"
    }
   ],
   "source": [
    "text=\" amerikano amerikan refoj refoje pian pian piano piana okon  okon antauxen reen  alten transen tereno koran dankon vin sin lin lino sino amas amaso havis aviso  altaj altajo\"\n",
    "text4=\"\"\"AN=[['dietan', '/diet/an/', '/diet/an'], ['afrikan', '/afrik/an/', '/afrik/an'], ['movadan', '/mov/ad/an/', '/mov/ad/an'], ['akcian', '/akci/an/', '/akci/an'], ['montaran', '/mont/ar/an/', '/mont/ar/an'], ['amerikan', '/amerik/an/', '/amerik/an'], ['regnan', '/regn/an/', '/regn/an'], ['dezertan', '/dezert/an/', '/dezert/an'], ['asocian', '/asoci/an/', '/asoci/an'], ['insulan', '/insul/an/', '/insul/an'], ['azian', '/azi/an/', '/azi/an'], ['sxtatan', '/sxtat/an/', '/sxtat/an'], ['doman', '/dom/an/', '/dom/an'], ['montan', '/mont/an/', '/mont/an'], ['familian', '/famili/an/', '/famili/an'], ['urban', '/urb/an/', '/urb/an'], ['popolan', '/popol/an/', '/popol/an'], ['dekan', '/dekan/', '/dek/an'], ['partian', '/parti/an/', '/parti/an'], ['lokan', '/lok/an/', '/lok/an'], ['sxipan', '/sxip/an/', '/sxip/an'], ['eklezian', '/eklezi/an/', '/eklezi/an'], ['landan', '/land/an/', '/land/an'], ['orientan', '/orient/an/', '/orient/an'], ['lernejan', '/lern/ej/an/', '/lern/ej/an'], ['enlandan', '/en/land/an/', '/en/land/an'], ['kalkan', '/kalkan/', '/kalk/an'], ['estraran', '/estr/ar/an/', '/estr/ar/an'], ['etnan', '/etn/an/', '/etn/an'], ['euxropan', '/euxrop/an/', '/euxrop/an'], ['fazan', '/fazan/', '/faz/an'], ['polican', '/polic/an/', '/polic/an'], ['socian', '/soci/an/', '/soci/an'], ['societan', '/societ/an/', '/societ/an'], ['grupan', '/grup/an/', '/grup/an'], ['ligan', '/lig/an/', '/lig/an'], ['nacian', '/naci/an/', '/naci/an'], ['koran', '/koran/', '/kor/an'], ['religian', '/religi/an/', '/religi/an'], ['kuban', '/kub/an/', '/kub/an'], ['majoran', '/major/an/', '/major/an'], ['marian', 'marian', '/mari/an'], ['nordan', '/nord/an/', '/nord/an'], ['paran', 'paran', '/par/an'], ['parizan', '/pariz/an/', '/pariz/an'], ['parokan', '/parok/an/', '/parok/an'], ['podian', '/podi/an/', '/podi/an'], ['rusian', '/rus/i/an/', '/rus/ian'], ['satan', '/satan/', '/sat/an'], ['sektan', '/sekt/an/', '/sekt/an'], ['senatan', '/senat/an/', '/senat/an'], ['skisman', '/skism/an/', '/skism/an'], ['sudan', 'sudan', '/sud/an'], ['utopian', '/utopi/an/', '/utopi/an'], ['vilagxan', '/vilagx/an/', '/vilagx/an']]\n",
    "ON=[['duon', '/du/on/', '/du/on'], ['okon', '/ok/on/', '/ok/on'], ['nombron', '/nombr/on/', '/nombr/on'], ['patron', '/patron/', '/patr/on'], ['karbon', '/karbon/', '/karb/on'], ['ciklon', '/ciklon/', '/cikl/on'], ['aldon', '/al/don/', '/ald/on'], ['balon', '/balon/', '/bal/on'], ['baron', '/baron/', '/bar/on'], ['baston', '/baston/', '/bast/on'], ['magneton', '/magnet/on/', '/magnet/on'], ['beton', 'beton', '/bet/on'], ['bombon', '/bombon/', '/bomb/on'], ['breton', 'breton', '/bret/on'], ['burgxon', '/burgxon/', '/burgx/on'], ['centon', '/cent/on/', '/cent/on'], ['milon', '/mil/on/', '/mil/on'], ['kanton', '/kanton/', '/kant/on'], ['citron', '/citron/', '/citr/on'], ['platon', 'platon', '/plat/on'], ['dekon', '/dek/on/', '/dek/on'], ['kvaron', '/kvar/on/', '/kvar/on'], ['kvinon', '/kvin/on/', '/kvin/on'], ['seson', '/ses/on/', '/ses/on'], ['trion', '/tri/on/', '/tri/on'], ['karton', '/karton/', '/kart/on'], ['foton', '/fot/on/', '/fot/on'], ['peron', '/peron/', '/per/on'], ['elektron', '/elektr/on/', '/elektr/on'], ['drakon', 'drakon', '/drak/on'], ['mondon', '/mon/don/', '/mond/on'], ['pension', '/pension/', '/pensi/on'], ['ordon', '/ordon/', '/ord/on'], ['eskadron', 'eskadron', '/eskadr/on'], ['senton', '/sen/ton/', '/sent/on'], ['eston', 'eston', '/est/on'], ['fanfaron', '/fanfaron/', '/fanfar/on'], ['feston', '/feston/', '/fest/on'], ['flegmon', 'flegmon', '/flegm/on'], ['fronton', '/fronton/', '/front/on'], ['galon', '/galon/', '/gal/on'], ['mason', '/mason/', '/mas/on'], ['helikon', 'helikon', '/helik/on'], ['kanon', '/kanon/', '/kan/on'], ['kapon', '/kapon/', '/kap/on'], ['kokon', '/kokon/', '/kok/on'], ['kolon', '/kolon/', '/kol/on'], ['komision', '/komision/', '/komisi/on'], ['salon', '/salon/', '/sal/on'], ['ponton', '/ponton/', '/pont/on'], ['koton', '/koton/', '/kot/on'], ['kripton', 'kripton', '/kript/on'], ['kupon', '/kupon/', '/kup/on'], ['lakon', 'lakon', '/lak/on'], ['ludon', '/lu/don/', '/lud/on'], ['melon', '/melon/', '/mel/on'], ['menton', '/menton/', '/ment/on'], ['milion', '/milion/', '/mili/on'], ['milionon', '/milion/on/', '/milion/on'], ['nauxon', '/naux/on/', '/naux/on'], ['violon', '/violon/', '/viol/on'], ['trombon', '/trombon/', '/tromb/on'], ['senson', '/sen/son/', '/sens/on'], ['sepon', '/sep/on/', '/sep/on'], ['skadron', 'skadron', '/skadr/on'], ['stadion', '/stadion/', '/stadi/on'], ['tetraon', 'tetraon', '/tetra/on'], ['timon', '/timon/', '/tim/on'], ['valon', 'valon', '/val/on']]\n",
    "AT=[['agat', '/agat/', '/ag/at/'], ['sonat', '/sonat/', '/son/at/'], ['format', '/format/', '/form/at/'], ['kantat', '/kantat/', '/kant/at/'], ['diplomat', '/diplomat/', '/diplom/at/'], ['salat', '/salat/', '/sal/at/'], ['legat', '/legat/', '/leg/at/'], ['predikat', '/predikat/', '/predik/at/'], ['rabat', '/rabat/', '/rab/at/'], ['sendat', '/sen/dat/', '/send/at/'], ['traktat', '/traktat/', '/trakt/at/']]\n",
    "IT=[['agit', '/agit/', '/ag/it/'], ['irit', 'irit', '/ir/it/'], ['gravit', 'gravit', '/grav/it/'], ['spirit', '/spirit/', '/spir/it/'], ['trilit', '/tri/lit/', '/tril/it/'], ['vizit', '/vizit/', '/viz/it/']]\n",
    "SONOTA=[['alo', '/alo/', '/al/o'], ['alte', '/alte/', '/alt/e'], ['apoge', '/apoge/', '/apog/e'], ['kaze', '/kaze/', '/kaz/e'], ['inka', 'inka', '/ink/a'], ['pere', '/pere/', '/per/e'], ['fero', 'fero', '/fer/o'], ['havaj', 'havaj', '/hav/aj'], ['kore', 'kore', '/kor/e'], ['lama', '/lama/', '/lam/a'], ['malaj', 'malaj', '/mal/aj'], ['male', 'male', '/mal/e'], ['refoj', '/re/foj/', '/ref/oj'], ['samo', 'samo', '/sam/o'], ['savoj', 'savoj', '/sav/oj'], ['sole', '/sole/', '/sol/e'], ['veto', 'veto', '/vet/o'], ['amas', '/amas/', '/am/as/'], ['iris', '/iris/', '/ir/is/'], ['regulus', 'regulus', '/regul/us/'], ['agxi', '/agxi/', '/agx/i'], ['akirant', 'akirant', '/akir/ant/'], ['radius', 'radius', '/radi/us/'], ['premis', '/premis/', '/prem/is/'], ['premi', '/premi/', '/prem/i'], ['bari', 'bari', '/bar/i'], ['markot', '/markot/', '/mark/ot/'], ['tempi', '/tempi/', '/temp/i'], ['noktu', '/noktu/', '/nokt/u'], ['vakcini', 'vakcini', '/vakcin/i'], ['nomad', '/nomad/', '/nom/ad/'], ['procesi', '/procesi/', '/proces/i'], ['statu', '/statu/', '/stat/u'], ['kolorad', 'kolorad', '/kolor/ad/'], ['devi', 'devi', '/dev/i'], ['diskont', '/diskont/', '/disk/ont/'], ['endos', 'endos', '/end/os/'], ['esperant', '/esperant/', '/esper/ant/'], ['feri', '/feri/', '/fer/i'], ['fleksi', '/fleksi/', '/fleks/i'], ['forkant', '/for/kant/', '/fork/ant/'], ['pensi', '/pensi/', '/pens/i'], ['konus', '/konus/', '/kon/us/'], ['jesu', '/jesu/', '/jes/u'], ['jxaluzi', 'jxaluzi', '/jxaluz/i'], ['konfesi', 'konfesi', '/konfes/i'], ['konsili', 'konsili', '/konsil/i'], ['legi', '/legi/', '/leg/i'], ['lekant', '/lekant/', '/lek/ant/'], ['licenci', 'licenci', '/licenc/i'], ['logxi', '/logxi/', '/logx/i'], ['lotus', '/lotus/', '/lot/us/'], ['malvolont', '/mal/volont/', '/mal/vol/ont/'], ['mankis', '/man/kis/', '/mank/is/'], ['meti', '/meti/', '/met/i'], ['minus', '/minus/', '/min/us/'], ['pasi', '/pasi/', '/pas/i'], ['patos', '/patos/', '/pat/os/'], ['revu', '/revu/', '/rev/u'], ['rabot', '/rabot/', '/rab/ot/'], ['rabi', '/rabi/', '/rab/i'], ['religi', '/religi/', '/re/lig/i'], ['remont', 'remont', '/rem/ont/'], ['sagu', '/sagu/', '/sag/u'], ['satirus', 'satirus', '/satir/us/'], ['sekci', '/sekci/', '/sekc/i'], ['sendot', '/sen/dot/', '/send/ot/'], ['sendi', '/sen/di/', '/send/i'], ['spirant', 'spirant', '/spir/ant/'], ['taksus', '/taksus/', '/taks/us/'], ['tenis', 'tenis', '/ten/is/'], ['teni', '/teni/', '/ten/i'], ['trikot', '/trikot/', '/trik/ot/'], ['vaku', 'vaku', '/vak/u'], ['vizi', '/vizi/', '/viz/i'], ['volont', '/volont/', '/vol/ont/']]\n",
    "# print(len(AN),len(ON),len(AT),len(IT),len(SONOTA))\"\"\"\n",
    "text=replace_esperanto_chars(text,esperanto_to_x)\n",
    "safe_replace(text,replacements_final_2)\n",
    "# parallel_procepre_replacements_dict_1(text*1,1, replacements)\n"
   ]
  },
  {
   "cell_type": "code",
   "execution_count": 40,
   "id": "c32cc1b3",
   "metadata": {},
   "outputs": [
    {
     "data": {
      "text/plain": [
       "'<ruby>nombr<rt class=\"ruby-X_X_X\">数</rt></ruby>on <ruby>nombr<rt class=\"ruby-X_X_X\">数</rt></ruby>on <ruby>nombr<rt class=\"ruby-X_X_X\">数</rt></ruby><ruby>on<rt class=\"ruby-M_M_M\">分数</rt></ruby>o <ruby>ok<rt class=\"ruby-X_X_X\">八</rt></ruby><ruby>on<rt class=\"ruby-M_M_M\">分数</rt></ruby> <ruby>popol<rt class=\"ruby-X_X_X\">人民</rt></ruby>an <ruby>pariz<rt class=\"ruby-M_M_M\">[地名]パリ</rt></ruby>an <ruby>pariz<rt class=\"ruby-M_M_M\">[地名]パリ</rt></ruby><ruby>an<rt class=\"ruby-M_M_M\">会員</rt></ruby>o/<ruby>popol<rt class=\"ruby-X_X_X\">人民</rt></ruby>an. <ruby>senat<rt class=\"ruby-M_M_M\">[政]参議院</rt></ruby>an <ruby>senat<rt class=\"ruby-M_M_M\">[政]参議院</rt></ruby>an <ruby>senat<rt class=\"ruby-M_M_M\">[政]参議院</rt></ruby><ruby>an<rt class=\"ruby-M_M_M\">会員</rt></ruby>o/ <ruby>skism<rt class=\"ruby-M_M_M\">(団体の)分裂</rt></ruby>an <ruby>pariz<rt class=\"ruby-M_M_M\">[地名]パリ</rt></ruby>an <ruby>skism<rt class=\"ruby-M_M_M\">(団体の)分裂</rt></ruby>an/ a<ruby>man<rt class=\"ruby-X_X_X\">手</rt></ruby> a<ruby>man<rt class=\"ruby-X_X_X\">手</rt></ruby>/<ruby>dank<rt class=\"ruby-S_S_S\">(に)感謝する</rt></ruby>on vin sin lin <ruby>lin<rt class=\"ruby-M_M_M\">[植]亜麻</rt></ruby>o <ruby>sin<rt class=\"ruby-X_X_X\">懐</rt></ruby>o <ruby>am<rt class=\"ruby-S_S_S\">愛する</rt></ruby><ruby>as<rt class=\"ruby-S_S_S\">現在形</rt></ruby> <ruby>amas<rt class=\"ruby-X_X_X\">集積</rt></ruby>o <ruby>hav<rt class=\"ruby-S_S_S\">持っている</rt></ruby><ruby>is<rt class=\"ruby-S_S_S\">過去形</rt></ruby> aviso  <ruby>alt<rt class=\"ruby-L_L_L\">高い</rt></ruby>aj altajo'"
      ]
     },
     "execution_count": 40,
     "metadata": {},
     "output_type": "execute_result"
    }
   ],
   "source": [
    "# safe_replace(\"Membroj havas  Mi farigxis multaj taskoj  Mi amas vin multe necese movado sin senegal nova \",replacements_final_2)\n",
    "# safe_replace(\"mondon mondonas amon amo amonj! amojn! mondon mondo vino vinon  vinojn vin vino nova \",replacements_final_2)\n",
    "# safe_replace(\"sin sindoni sindonemo dion Dion amon amon dio dia Senegala senegal senegala senegalo\",replacements_final_2)\n",
    "safe_replace(\"nombron nombron nombrono okon popolan parizan parizano/popolan. senatan senatan senatano/ skisman parizan skisman/ aman aman/dankon vin sin lin lino sino amas amaso havis aviso  altaj altajo\",replacements_final_2)"
   ]
  },
  {
   "cell_type": "markdown",
   "id": "35339744",
   "metadata": {},
   "source": []
  },
  {
   "cell_type": "code",
   "execution_count": 41,
   "id": "1a167267",
   "metadata": {},
   "outputs": [],
   "source": [
    "import re\n",
    "def find_strings_in_text(text):\n",
    "    # 正規表現パターンを定義\n",
    "    pattern = re.compile(r'%%(.{1,50}?)%%')\n",
    "    matches = []\n",
    "    used_indices = set()\n",
    "\n",
    "    # 正規表現のマッチを見つける\n",
    "    for match in pattern.finditer(text):\n",
    "        start, end = match.span()\n",
    "        # 重複する%%を避けるためにインデックスをチェック\n",
    "        if start not in used_indices and end-2 not in used_indices:  # end-2 because of double %%\n",
    "            matches.append(match.group(1))\n",
    "            # インデックスを使用済みセットに追加\n",
    "            used_indices.update(range(start, end))\n",
    "    return matches\n",
    "def import_placeholders(filename):\n",
    "    with open(filename, 'r') as file:\n",
    "        placeholders = [line.strip() for line in file if line.strip()]\n",
    "    return placeholders\n",
    "def create_replacements(text, placeholders):\n",
    "    # テキストから%%で囲まれた部分を抽出\n",
    "    matches = find_strings_in_text(text)\n",
    "    replacements_list_for_intact_parts = []\n",
    "    # プレースホルダーとマッチを対応させる\n",
    "    for i, match in enumerate(matches):\n",
    "        if i < len(placeholders):\n",
    "            replacements_list_for_intact_parts.append([f\"%%{match}%%\", placeholders[i]])\n",
    "        else:\n",
    "            break  # プレースホルダーが足りなくなった場合は終了\n",
    "    return replacements_list_for_intact_parts\n",
    "# 使用例\n",
    "text = text = \"\"\"%%L. Zamenhof.%% Kongresaj paroladoj\n",
    "Kongresaj paroladoj\n",
    "%%Lazarj Markoviĉ Zamenhof%%\n",
    "\n",
    "Kongresaj paroladoj\n",
    "\n",
    "Serio Scio, №2\n",
    "\n",
    "La 1a eldono: %%Jekaterinburgo%% Ruslanda Esperantisto, 1995.\n",
    "La 2a eldono: %%Kaliningrado%%: Sezonoj; %%Kaunas: LEA, 2015.%%\n",
    "\"\"\"\n",
    "# プレースホルダーファイルから読み込む\n",
    "placeholders = import_placeholders('placeholders_&%1854&%-&%9834&%_文字列置換skip用.txt')\n",
    "# リストを作成\n",
    "replacements_list_for_intact_parts = create_replacements(text, placeholders)\n",
    "sorted_replacements_list_for_intact_parts = sorted(replacements_list_for_intact_parts, key=lambda x: len(x[0]), reverse=True)\n",
    "# 結果を表示\n",
    "# for item in sorted_replacements_list_for_intact_parts:\n",
    "#     print(item)"
   ]
  },
  {
   "cell_type": "code",
   "execution_count": 42,
   "id": "70af3c9e",
   "metadata": {},
   "outputs": [],
   "source": [
    "A=['ad', 'ag', 'am', 'ar', 'as', 'at', 'av', 'di', 'ec', 'eg', 'ej', 'em', 'er', 'et', 'id', 'ig', 'il', 'in', 'ir', 'is', 'it', 'lu', 'nj', 'op', 'or', 'os', 'ot', 'ov', 'pi', 'te', 'uj', 'ul', 'um', 'us', 'uz']\n",
    "B=['al', 'am', 'av', 'bo', 'di', 'ek', 'el', 'en', 'ge', 'ir', 'lu', 'ne', 'or', 'ov', 'pi', 'te', 'uz']\n",
    "C=['al', 'ci', 'da', 'de', 'di', 'do', 'du', 'el', 'en', 'fi', 'he', 'ho', 'je', 'ju', 'la', 'li', 'mi', 'ne', 'ni', 'nu', 'ok', 'ol', 'pi', 'po', 'se', 'si', 've', 'vi','ke']\n",
    "##an,onはなしにする。\n"
   ]
  },
  {
   "cell_type": "code",
   "execution_count": 43,
   "id": "e2f543b6",
   "metadata": {},
   "outputs": [],
   "source": [
    "with open('placeholders_$18542$-$19834$_二文字词根用.txt', 'r', encoding='utf-8') as file:##(漢字)置換時に用いる\"placeholder\"ファイルを予め読み込んでおく。\n",
    "    imported_placeholders_for_2char = [line.strip() for line in file]\n",
    "\n",
    "A_replacements_list_for_2char=[]\n",
    "for i in range(len(A)):\n",
    "    A_replacements_list_for_2char.append([\"$\"+A[i],\"$\"+safe_replace(A[i],temporary_replacements_list_3),\"$\"+imported_placeholders_for_2char[i]])\n",
    "    A_replacements_list_for_2char.append([\"$\"+A[i].upper(),\"$\"+safe_replace(A[i],temporary_replacements_list_3),\"$\"+imported_placeholders_for_2char[i][:-1]+'up$'])\n",
    "    A_replacements_list_for_2char.append([\"$\"+A[i].capitalize(),\"$\"+safe_replace(A[i],temporary_replacements_list_3),\"$\"+imported_placeholders_for_2char[i][:-1]+'cap$'])\n",
    "\n",
    "B_replacements_list_for_2char=[]\n",
    "for i in range(len(B)):\n",
    "    B_replacements_list_for_2char.append([B[i]+\"$\",safe_replace(B[i],temporary_replacements_list_3)+\"$\",imported_placeholders_for_2char[i+300]+\"$\"])\n",
    "    B_replacements_list_for_2char.append([B[i].upper()+\"$\",safe_replace(B[i],temporary_replacements_list_3)+\"$\",imported_placeholders_for_2char[i+300][:-1]+'up$'+\"$\"])\n",
    "    B_replacements_list_for_2char.append([B[i].capitalize()+\"$\",safe_replace(B[i],temporary_replacements_list_3)+\"$\",imported_placeholders_for_2char[i+300][:-1]+'cap$'+\"$\"])\n",
    "\n",
    "C_replacements_list_for_2char=[]\n",
    "for i in range(len(C)):\n",
    "    C_replacements_list_for_2char.append([\" \"+C[i]+\" \",\" \"+safe_replace(C[i],temporary_replacements_list_3)+\" \",\" \"+imported_placeholders_for_2char[i+600]+\" \"])\n",
    "    C_replacements_list_for_2char.append([\" \"+C[i].upper()+\" \",\" \"+safe_replace(C[i],temporary_replacements_list_3)+\" \",\" \"+imported_placeholders_for_2char[i+600][:-1]+'up$'+\" \"])\n",
    "    C_replacements_list_for_2char.append([\" \"+C[i].capitalize()+\" \",\" \"+safe_replace(C[i],temporary_replacements_list_3)+\" \",\" \"+imported_placeholders_for_2char[i+600][:-1]+'cap$'+\" \"])\n",
    "\n",
    "ABC_replacements_list_for_2char=C_replacements_list_for_2char+A_replacements_list_for_2char+B_replacements_list_for_2char\n",
    "\n",
    "import json\n",
    "# JSONファイルに保存\n",
    "with open(\"ABC_replacements_list_for_2char.json\", \"w\", encoding=\"utf-8\") as f:\n",
    "    json.dump(ABC_replacements_list_for_2char, f, ensure_ascii=False, indent=2)"
   ]
  },
  {
   "cell_type": "code",
   "execution_count": 44,
   "id": "bb0e8efb",
   "metadata": {},
   "outputs": [],
   "source": [
    "import json\n",
    "import re\n",
    "# JSONファイルを読み込む\n",
    "with open(\"ABC_replacements_list_for_2char.json\", \"r\", encoding=\"utf-8\") as f:\n",
    "    imported_data_ABC_replacements_list_for_2char = json.load(f)\n",
    "\n",
    "# プレースホルダーを用いた文字列置換関数\n",
    "def enhanced_safe_replace_func_expanded_for_2char_roots(text, replacements, imported_data_ABC_replacements_list_for_2char):\n",
    "    valid_replacements = {}\n",
    "    for old, new, placeholder in replacements:\n",
    "        if old in text:\n",
    "            text = text.replace(old, placeholder)# 置換前の文字列を一旦プレースホルダーに置き換える。\n",
    "            valid_replacements[placeholder] = new\n",
    "# ここで、2文字の語根の置換を実施することとした(202412の変更)。  &%\n",
    "    valid_replacements_ABC = {}\n",
    "    for old, new, placeholder in imported_data_ABC_replacements_list_for_2char:\n",
    "        if old in text:\n",
    "            text = text.replace(old, placeholder)\n",
    "            valid_replacements_ABC[placeholder] = new\n",
    "    valid_replacements_ABC_2 = {}\n",
    "    for old, new, placeholder in imported_data_ABC_replacements_list_for_2char:\n",
    "        if old in text:\n",
    "            text = text.replace(old, placeholder)\n",
    "            valid_replacements_ABC_2[placeholder] = new\n",
    "    for placeholder, new in reversed(valid_replacements_ABC_2.items()):##ここで、reverseにすることがポイント。\n",
    "        text = text.replace(placeholder, new)# プレースホルダーを置換後の文字列に置き換える。\n",
    "    for placeholder, new in reversed(valid_replacements_ABC.items()):\n",
    "        text = text.replace(placeholder, new)# プレースホルダーを置換後の文字列に置き換える。\n",
    "    for placeholder, new in valid_replacements.items():\n",
    "        text = text.replace(placeholder, new)\n",
    "    return text"
   ]
  },
  {
   "cell_type": "code",
   "execution_count": 45,
   "id": "bdd131a5",
   "metadata": {},
   "outputs": [],
   "source": [
    "with open('例文4.txt','r') as g:\n",
    "    ll=g.read()\n",
    "text2=replace_esperanto_chars(ll,esperanto_to_x)\n",
    "\n",
    "replacements_list_for_intact_parts = create_replacements(text2, placeholders)\n",
    "sorted_replacements_list_for_intact_parts = sorted(replacements_list_for_intact_parts, key=lambda x: len(x[0]), reverse=True)\n",
    "for original, place_holder_ in sorted_replacements_list_for_intact_parts:\n",
    "    text2 = text2.replace(original, place_holder_)\n",
    "\n",
    "text3=enhanced_safe_replace_func_expanded_for_2char_roots(text2, replacements_final_2, imported_data_ABC_replacements_list_for_2char)\n",
    "\n",
    "for original, place_holder_ in sorted_replacements_list_for_intact_parts:\n",
    "    text3 = text3.replace(place_holder_, original.replace(\"%%\",\"\"))\n",
    "\n",
    "import re\n",
    "# 改行を <br> に変換\n",
    "text3 = text3.replace(\"\\n\", \"<br>\\n\")\n",
    "\n",
    "# 連続する空白を &nbsp; に変換\n",
    "text3 = re.sub(r\"  \", \"&nbsp;&nbsp;\", text3)  # 2つ以上の空白を変換\n",
    "# html形式におけるルビサイズの変更形式\n",
    "ruby_style=\"\"\"<style>\n",
    "    .text-S_S_S {font-size: 12px;}\n",
    "    .text-M_M_M {font-size: 16px;}\n",
    "    .text-L_L_L {font-size: 20px;}\n",
    "    .text-X_X_X {font-size: 24px;}\n",
    "    .ruby-S_S_S { font-size: 0.33em; }\n",
    "    .ruby-M_M_M { font-size: 0.45em; }\n",
    "    .ruby-L_L_L { font-size: 0.60em; }\n",
    "    .ruby-X_X_X { font-size: 0.70em; }\n",
    "\n",
    "    ruby {\n",
    "  display: inline-block;\n",
    "  position: relative; /* 相対位置 */\n",
    "  white-space: nowrap; /* 改行防止 */\n",
    "}\n",
    "\n",
    "rt {\n",
    "  position: absolute;\n",
    "  top: -0.40em;/* ルビの位置(高さ) */\n",
    "  left: 50%; /* 左端を親要素の中央に合わせる */\n",
    "  transform: translateX(-50%); /* 中央に揃える */\n",
    "  line-height: 1.0;/* ルビの行間 */\n",
    "  white-space: normal; /* 改行を可能にする */\n",
    "  overflow-wrap: break-word; /* 必要に応じて改行 */\n",
    "  word-break: keep-all; /* 単語途中での改行を防ぐ */\n",
    "  max-width: 200%; /* 親要素の幅を超えないようにする */\n",
    "  text-align: center; /* 改行後も中央揃え */\n",
    "}\n",
    "</style>\n",
    "\n",
    "<p class=\"text-M_M_M\">\n",
    "\"\"\"\n",
    "ruby_style_tail=\"\"\"\n",
    "\n",
    "</p>\n",
    "\"\"\"\n",
    "text4=ruby_style+text3+ruby_style_tail\n",
    "\n",
    "\n",
    "# text3=parallel_procepre_replacements_dict_1(text2*1,1, replacements_final)\n",
    "with open('出力4.html','w', encoding='utf-8') as h:\n",
    "    h.write(text4)"
   ]
  },
  {
   "cell_type": "markdown",
   "id": "e7713af7",
   "metadata": {},
   "source": [
    "以下是附录(以下はおまけ)"
   ]
  },
  {
   "cell_type": "markdown",
   "id": "bd791477",
   "metadata": {},
   "source": []
  }
 ],
 "metadata": {
  "kernelspec": {
   "display_name": "base",
   "language": "python",
   "name": "python3"
  },
  "language_info": {
   "codemirror_mode": {
    "name": "ipython",
    "version": 3
   },
   "file_extension": ".py",
   "mimetype": "text/x-python",
   "name": "python",
   "nbconvert_exporter": "python",
   "pygments_lexer": "ipython3",
   "version": "3.8.18"
  }
 },
 "nbformat": 4,
 "nbformat_minor": 5
}
